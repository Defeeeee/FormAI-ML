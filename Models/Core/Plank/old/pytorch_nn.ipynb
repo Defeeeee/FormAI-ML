{
 "cells": [
  {
   "metadata": {},
   "cell_type": "markdown",
   "source": "# PyTorch Neural Network for Plank classification (High back, Low back, Correct)",
   "id": "7738120367e1ac76"
  },
  {
   "metadata": {
    "ExecuteTime": {
     "end_time": "2024-10-02T12:47:06.422311Z",
     "start_time": "2024-10-02T12:47:06.415519Z"
    }
   },
   "cell_type": "code",
   "source": [
    "import torch\n",
    "import torch.nn as nn\n",
    "import torch.nn.functional as F\n",
    "import torch.optim as optim\n",
    "import numpy as np\n",
    "import pandas as pd\n",
    "import matplotlib.pyplot as plt\n",
    "from sklearn.model_selection import train_test_split\n",
    "from sklearn.preprocessing import StandardScaler\n"
   ],
   "id": "b760772dee81afcb",
   "outputs": [],
   "execution_count": 31
  },
  {
   "metadata": {
    "ExecuteTime": {
     "end_time": "2024-10-02T12:47:06.659830Z",
     "start_time": "2024-10-02T12:47:06.440853Z"
    }
   },
   "cell_type": "code",
   "source": [
    "# Load data\n",
    "data = pd.read_csv('ds.csv')\n",
    "data = data.dropna()\n",
    "\n",
    "data\n"
   ],
   "id": "7b4e5df85d30532f",
   "outputs": [
    {
     "data": {
      "text/plain": [
       "      label    nose_x    nose_y    nose_z    nose_v  left_shoulder_x  \\\n",
       "0         C  0.241842  0.435841 -0.002772  0.999881         0.274594   \n",
       "1         C  0.237662  0.440657 -0.003768  0.999896         0.274228   \n",
       "2         C  0.237591  0.441506 -0.003623  0.999899         0.274257   \n",
       "3         C  0.238127  0.441322 -0.000322  0.999902         0.274333   \n",
       "4         C  0.238066  0.440833  0.003989  0.999907         0.274171   \n",
       "...     ...       ...       ...       ...       ...              ...   \n",
       "29225     H  0.686869  0.539877  0.026248  0.999214         0.686127   \n",
       "29226     H  0.712149  0.544478  0.014878  0.999212         0.693965   \n",
       "29227     H  0.735630  0.543294  0.007467  0.999246         0.695831   \n",
       "29228     H  0.775572  0.517579  0.012821  0.999378         0.704168   \n",
       "29229     H  0.790600  0.498958  0.007789  0.999467         0.710651   \n",
       "\n",
       "       left_shoulder_y  left_shoulder_z  left_shoulder_v  right_shoulder_x  \\\n",
       "0             0.341100        -0.188556         0.999743          0.296270   \n",
       "1             0.339355        -0.189618         0.999759          0.296200   \n",
       "2             0.340742        -0.190390         0.999762          0.295690   \n",
       "3             0.339990        -0.190143         0.999760          0.295731   \n",
       "4             0.343735        -0.187406         0.999760          0.295011   \n",
       "...                ...              ...              ...               ...   \n",
       "29225         0.417011         0.160699         0.996643          0.712502   \n",
       "29226         0.417500         0.159935         0.996030          0.718311   \n",
       "29227         0.417349         0.155194         0.995723          0.720067   \n",
       "29228         0.404210         0.162908         0.995909          0.730823   \n",
       "29229         0.394019         0.164441         0.996123          0.736771   \n",
       "\n",
       "       ...  right_heel_z  right_heel_v  left_foot_index_x  left_foot_index_y  \\\n",
       "0      ...      0.174394      0.529667           0.801527           0.555134   \n",
       "1      ...      0.184522      0.553936           0.803268           0.557891   \n",
       "2      ...      0.187280      0.553449           0.803358           0.558061   \n",
       "3      ...      0.178452      0.561389           0.803932           0.554631   \n",
       "4      ...      0.172571      0.567620           0.802851           0.554338   \n",
       "...    ...           ...           ...                ...                ...   \n",
       "29225  ...      0.038186      0.964841           0.222027           0.581916   \n",
       "29226  ...      0.057837      0.965207           0.225002           0.589805   \n",
       "29227  ...      0.086010      0.966131           0.226601           0.598075   \n",
       "29228  ...      0.070911      0.967070           0.238810           0.610591   \n",
       "29229  ...      0.085872      0.967943           0.238197           0.609329   \n",
       "\n",
       "       left_foot_index_z  left_foot_index_v  right_foot_index_x  \\\n",
       "0              -0.070554           0.776038            0.794738   \n",
       "1              -0.061299           0.799590            0.795147   \n",
       "2              -0.053722           0.798296            0.797029   \n",
       "3              -0.059433           0.804831            0.799963   \n",
       "4              -0.064519           0.809826            0.799751   \n",
       "...                  ...                ...                 ...   \n",
       "29225           0.161242           0.449509            0.215568   \n",
       "29226           0.194644           0.456460            0.215463   \n",
       "29227           0.219305           0.470830            0.220079   \n",
       "29228           0.198591           0.496140            0.228907   \n",
       "29229           0.233198           0.510583            0.227823   \n",
       "\n",
       "       right_foot_index_y  right_foot_index_z  right_foot_index_v  \n",
       "0                0.537268            0.102899            0.440595  \n",
       "1                0.533265            0.113687            0.479885  \n",
       "2                0.534547            0.120511            0.478705  \n",
       "3                0.532089            0.107540            0.488323  \n",
       "4                0.530627            0.102761            0.495874  \n",
       "...                   ...                 ...                 ...  \n",
       "29225            0.605296           -0.018090            0.928651  \n",
       "29226            0.608492           -0.008770            0.931416  \n",
       "29227            0.614120            0.026265            0.934942  \n",
       "29228            0.625559            0.018591            0.938905  \n",
       "29229            0.626068            0.036127            0.940917  \n",
       "\n",
       "[29230 rows x 69 columns]"
      ],
      "text/html": [
       "<div>\n",
       "<style scoped>\n",
       "    .dataframe tbody tr th:only-of-type {\n",
       "        vertical-align: middle;\n",
       "    }\n",
       "\n",
       "    .dataframe tbody tr th {\n",
       "        vertical-align: top;\n",
       "    }\n",
       "\n",
       "    .dataframe thead th {\n",
       "        text-align: right;\n",
       "    }\n",
       "</style>\n",
       "<table border=\"1\" class=\"dataframe\">\n",
       "  <thead>\n",
       "    <tr style=\"text-align: right;\">\n",
       "      <th></th>\n",
       "      <th>label</th>\n",
       "      <th>nose_x</th>\n",
       "      <th>nose_y</th>\n",
       "      <th>nose_z</th>\n",
       "      <th>nose_v</th>\n",
       "      <th>left_shoulder_x</th>\n",
       "      <th>left_shoulder_y</th>\n",
       "      <th>left_shoulder_z</th>\n",
       "      <th>left_shoulder_v</th>\n",
       "      <th>right_shoulder_x</th>\n",
       "      <th>...</th>\n",
       "      <th>right_heel_z</th>\n",
       "      <th>right_heel_v</th>\n",
       "      <th>left_foot_index_x</th>\n",
       "      <th>left_foot_index_y</th>\n",
       "      <th>left_foot_index_z</th>\n",
       "      <th>left_foot_index_v</th>\n",
       "      <th>right_foot_index_x</th>\n",
       "      <th>right_foot_index_y</th>\n",
       "      <th>right_foot_index_z</th>\n",
       "      <th>right_foot_index_v</th>\n",
       "    </tr>\n",
       "  </thead>\n",
       "  <tbody>\n",
       "    <tr>\n",
       "      <th>0</th>\n",
       "      <td>C</td>\n",
       "      <td>0.241842</td>\n",
       "      <td>0.435841</td>\n",
       "      <td>-0.002772</td>\n",
       "      <td>0.999881</td>\n",
       "      <td>0.274594</td>\n",
       "      <td>0.341100</td>\n",
       "      <td>-0.188556</td>\n",
       "      <td>0.999743</td>\n",
       "      <td>0.296270</td>\n",
       "      <td>...</td>\n",
       "      <td>0.174394</td>\n",
       "      <td>0.529667</td>\n",
       "      <td>0.801527</td>\n",
       "      <td>0.555134</td>\n",
       "      <td>-0.070554</td>\n",
       "      <td>0.776038</td>\n",
       "      <td>0.794738</td>\n",
       "      <td>0.537268</td>\n",
       "      <td>0.102899</td>\n",
       "      <td>0.440595</td>\n",
       "    </tr>\n",
       "    <tr>\n",
       "      <th>1</th>\n",
       "      <td>C</td>\n",
       "      <td>0.237662</td>\n",
       "      <td>0.440657</td>\n",
       "      <td>-0.003768</td>\n",
       "      <td>0.999896</td>\n",
       "      <td>0.274228</td>\n",
       "      <td>0.339355</td>\n",
       "      <td>-0.189618</td>\n",
       "      <td>0.999759</td>\n",
       "      <td>0.296200</td>\n",
       "      <td>...</td>\n",
       "      <td>0.184522</td>\n",
       "      <td>0.553936</td>\n",
       "      <td>0.803268</td>\n",
       "      <td>0.557891</td>\n",
       "      <td>-0.061299</td>\n",
       "      <td>0.799590</td>\n",
       "      <td>0.795147</td>\n",
       "      <td>0.533265</td>\n",
       "      <td>0.113687</td>\n",
       "      <td>0.479885</td>\n",
       "    </tr>\n",
       "    <tr>\n",
       "      <th>2</th>\n",
       "      <td>C</td>\n",
       "      <td>0.237591</td>\n",
       "      <td>0.441506</td>\n",
       "      <td>-0.003623</td>\n",
       "      <td>0.999899</td>\n",
       "      <td>0.274257</td>\n",
       "      <td>0.340742</td>\n",
       "      <td>-0.190390</td>\n",
       "      <td>0.999762</td>\n",
       "      <td>0.295690</td>\n",
       "      <td>...</td>\n",
       "      <td>0.187280</td>\n",
       "      <td>0.553449</td>\n",
       "      <td>0.803358</td>\n",
       "      <td>0.558061</td>\n",
       "      <td>-0.053722</td>\n",
       "      <td>0.798296</td>\n",
       "      <td>0.797029</td>\n",
       "      <td>0.534547</td>\n",
       "      <td>0.120511</td>\n",
       "      <td>0.478705</td>\n",
       "    </tr>\n",
       "    <tr>\n",
       "      <th>3</th>\n",
       "      <td>C</td>\n",
       "      <td>0.238127</td>\n",
       "      <td>0.441322</td>\n",
       "      <td>-0.000322</td>\n",
       "      <td>0.999902</td>\n",
       "      <td>0.274333</td>\n",
       "      <td>0.339990</td>\n",
       "      <td>-0.190143</td>\n",
       "      <td>0.999760</td>\n",
       "      <td>0.295731</td>\n",
       "      <td>...</td>\n",
       "      <td>0.178452</td>\n",
       "      <td>0.561389</td>\n",
       "      <td>0.803932</td>\n",
       "      <td>0.554631</td>\n",
       "      <td>-0.059433</td>\n",
       "      <td>0.804831</td>\n",
       "      <td>0.799963</td>\n",
       "      <td>0.532089</td>\n",
       "      <td>0.107540</td>\n",
       "      <td>0.488323</td>\n",
       "    </tr>\n",
       "    <tr>\n",
       "      <th>4</th>\n",
       "      <td>C</td>\n",
       "      <td>0.238066</td>\n",
       "      <td>0.440833</td>\n",
       "      <td>0.003989</td>\n",
       "      <td>0.999907</td>\n",
       "      <td>0.274171</td>\n",
       "      <td>0.343735</td>\n",
       "      <td>-0.187406</td>\n",
       "      <td>0.999760</td>\n",
       "      <td>0.295011</td>\n",
       "      <td>...</td>\n",
       "      <td>0.172571</td>\n",
       "      <td>0.567620</td>\n",
       "      <td>0.802851</td>\n",
       "      <td>0.554338</td>\n",
       "      <td>-0.064519</td>\n",
       "      <td>0.809826</td>\n",
       "      <td>0.799751</td>\n",
       "      <td>0.530627</td>\n",
       "      <td>0.102761</td>\n",
       "      <td>0.495874</td>\n",
       "    </tr>\n",
       "    <tr>\n",
       "      <th>...</th>\n",
       "      <td>...</td>\n",
       "      <td>...</td>\n",
       "      <td>...</td>\n",
       "      <td>...</td>\n",
       "      <td>...</td>\n",
       "      <td>...</td>\n",
       "      <td>...</td>\n",
       "      <td>...</td>\n",
       "      <td>...</td>\n",
       "      <td>...</td>\n",
       "      <td>...</td>\n",
       "      <td>...</td>\n",
       "      <td>...</td>\n",
       "      <td>...</td>\n",
       "      <td>...</td>\n",
       "      <td>...</td>\n",
       "      <td>...</td>\n",
       "      <td>...</td>\n",
       "      <td>...</td>\n",
       "      <td>...</td>\n",
       "      <td>...</td>\n",
       "    </tr>\n",
       "    <tr>\n",
       "      <th>29225</th>\n",
       "      <td>H</td>\n",
       "      <td>0.686869</td>\n",
       "      <td>0.539877</td>\n",
       "      <td>0.026248</td>\n",
       "      <td>0.999214</td>\n",
       "      <td>0.686127</td>\n",
       "      <td>0.417011</td>\n",
       "      <td>0.160699</td>\n",
       "      <td>0.996643</td>\n",
       "      <td>0.712502</td>\n",
       "      <td>...</td>\n",
       "      <td>0.038186</td>\n",
       "      <td>0.964841</td>\n",
       "      <td>0.222027</td>\n",
       "      <td>0.581916</td>\n",
       "      <td>0.161242</td>\n",
       "      <td>0.449509</td>\n",
       "      <td>0.215568</td>\n",
       "      <td>0.605296</td>\n",
       "      <td>-0.018090</td>\n",
       "      <td>0.928651</td>\n",
       "    </tr>\n",
       "    <tr>\n",
       "      <th>29226</th>\n",
       "      <td>H</td>\n",
       "      <td>0.712149</td>\n",
       "      <td>0.544478</td>\n",
       "      <td>0.014878</td>\n",
       "      <td>0.999212</td>\n",
       "      <td>0.693965</td>\n",
       "      <td>0.417500</td>\n",
       "      <td>0.159935</td>\n",
       "      <td>0.996030</td>\n",
       "      <td>0.718311</td>\n",
       "      <td>...</td>\n",
       "      <td>0.057837</td>\n",
       "      <td>0.965207</td>\n",
       "      <td>0.225002</td>\n",
       "      <td>0.589805</td>\n",
       "      <td>0.194644</td>\n",
       "      <td>0.456460</td>\n",
       "      <td>0.215463</td>\n",
       "      <td>0.608492</td>\n",
       "      <td>-0.008770</td>\n",
       "      <td>0.931416</td>\n",
       "    </tr>\n",
       "    <tr>\n",
       "      <th>29227</th>\n",
       "      <td>H</td>\n",
       "      <td>0.735630</td>\n",
       "      <td>0.543294</td>\n",
       "      <td>0.007467</td>\n",
       "      <td>0.999246</td>\n",
       "      <td>0.695831</td>\n",
       "      <td>0.417349</td>\n",
       "      <td>0.155194</td>\n",
       "      <td>0.995723</td>\n",
       "      <td>0.720067</td>\n",
       "      <td>...</td>\n",
       "      <td>0.086010</td>\n",
       "      <td>0.966131</td>\n",
       "      <td>0.226601</td>\n",
       "      <td>0.598075</td>\n",
       "      <td>0.219305</td>\n",
       "      <td>0.470830</td>\n",
       "      <td>0.220079</td>\n",
       "      <td>0.614120</td>\n",
       "      <td>0.026265</td>\n",
       "      <td>0.934942</td>\n",
       "    </tr>\n",
       "    <tr>\n",
       "      <th>29228</th>\n",
       "      <td>H</td>\n",
       "      <td>0.775572</td>\n",
       "      <td>0.517579</td>\n",
       "      <td>0.012821</td>\n",
       "      <td>0.999378</td>\n",
       "      <td>0.704168</td>\n",
       "      <td>0.404210</td>\n",
       "      <td>0.162908</td>\n",
       "      <td>0.995909</td>\n",
       "      <td>0.730823</td>\n",
       "      <td>...</td>\n",
       "      <td>0.070911</td>\n",
       "      <td>0.967070</td>\n",
       "      <td>0.238810</td>\n",
       "      <td>0.610591</td>\n",
       "      <td>0.198591</td>\n",
       "      <td>0.496140</td>\n",
       "      <td>0.228907</td>\n",
       "      <td>0.625559</td>\n",
       "      <td>0.018591</td>\n",
       "      <td>0.938905</td>\n",
       "    </tr>\n",
       "    <tr>\n",
       "      <th>29229</th>\n",
       "      <td>H</td>\n",
       "      <td>0.790600</td>\n",
       "      <td>0.498958</td>\n",
       "      <td>0.007789</td>\n",
       "      <td>0.999467</td>\n",
       "      <td>0.710651</td>\n",
       "      <td>0.394019</td>\n",
       "      <td>0.164441</td>\n",
       "      <td>0.996123</td>\n",
       "      <td>0.736771</td>\n",
       "      <td>...</td>\n",
       "      <td>0.085872</td>\n",
       "      <td>0.967943</td>\n",
       "      <td>0.238197</td>\n",
       "      <td>0.609329</td>\n",
       "      <td>0.233198</td>\n",
       "      <td>0.510583</td>\n",
       "      <td>0.227823</td>\n",
       "      <td>0.626068</td>\n",
       "      <td>0.036127</td>\n",
       "      <td>0.940917</td>\n",
       "    </tr>\n",
       "  </tbody>\n",
       "</table>\n",
       "<p>29230 rows × 69 columns</p>\n",
       "</div>"
      ]
     },
     "execution_count": 32,
     "metadata": {},
     "output_type": "execute_result"
    }
   ],
   "execution_count": 32
  },
  {
   "metadata": {
    "ExecuteTime": {
     "end_time": "2024-10-02T12:47:06.708294Z",
     "start_time": "2024-10-02T12:47:06.706104Z"
    }
   },
   "cell_type": "code",
   "source": "",
   "id": "946641090991252d",
   "outputs": [],
   "execution_count": null
  },
  {
   "metadata": {
    "ExecuteTime": {
     "end_time": "2024-10-02T12:47:06.819514Z",
     "start_time": "2024-10-02T12:47:06.767147Z"
    }
   },
   "cell_type": "code",
   "source": [
    "# Prepare data\n",
    "y = data['label'].values\n",
    "\n",
    "X = data.drop('label', axis=1).values\n",
    "\n",
    "# encode labels (H, L, C) to (2, 1, 0)\n",
    "y = np.where(y == 'H', 2, y)\n",
    "y = np.where(y == 'L', 1, y)\n",
    "y = np.where(y == 'C', 0, y)\n",
    "\n",
    "# Convert labels to integers\n",
    "y = y.astype(int)\n",
    "\n",
    "# Split data\n",
    "X_train, X_test, y_train, y_test = train_test_split(X, y, test_size=0.2, random_state=42)\n",
    "\n",
    "scaler = StandardScaler()\n",
    "X_train = scaler.fit_transform(X_train)\n",
    "X_test = scaler.transform(X_test)\n",
    "\n",
    "X_train = torch.FloatTensor(X_train)\n",
    "X_test = torch.FloatTensor(X_test)\n",
    "\n",
    "y_train = torch.LongTensor(y_train)\n",
    "y_test = torch.LongTensor(y_test)"
   ],
   "id": "672447bf918cdac9",
   "outputs": [],
   "execution_count": 33
  },
  {
   "metadata": {
    "ExecuteTime": {
     "end_time": "2024-10-02T12:47:06.853251Z",
     "start_time": "2024-10-02T12:47:06.849191Z"
    }
   },
   "cell_type": "code",
   "source": [
    "# Define model\n",
    "class Net(nn.Module):\n",
    "    def __init__(self):\n",
    "        super().__init__()\n",
    "        self.fc1 = nn.Linear(in_features=68, out_features=20)\n",
    "        self.fc2 = nn.Linear(in_features=20, out_features=20)\n",
    "        self.out = nn.Linear(in_features=20, out_features=3)\n",
    "        self.dropout = nn.Dropout(p=0.5)  # Dropout with 50% probability\n",
    "\n",
    "    def forward(self, x):\n",
    "        x = F.relu(self.fc1(x))\n",
    "        x = self.dropout(x)  # Apply dropout after first layer\n",
    "        x = F.relu(self.fc2(x))\n",
    "        x = self.dropout(x)  # Apply dropout after second layer\n",
    "        x = self.out(x)\n",
    "        x = F.softmax(x, dim=1)  # Apply softmax to the output layer\n",
    "        return x\n",
    "    "
   ],
   "id": "863cceee46a19889",
   "outputs": [],
   "execution_count": 34
  },
  {
   "metadata": {
    "ExecuteTime": {
     "end_time": "2024-10-02T12:47:06.926195Z",
     "start_time": "2024-10-02T12:47:06.922953Z"
    }
   },
   "cell_type": "code",
   "source": [
    "# Initialize model\n",
    "net = Net()\n",
    "print(net)"
   ],
   "id": "dea0cbf17fb9522c",
   "outputs": [
    {
     "name": "stdout",
     "output_type": "stream",
     "text": [
      "Net(\n",
      "  (fc1): Linear(in_features=68, out_features=20, bias=True)\n",
      "  (fc2): Linear(in_features=20, out_features=20, bias=True)\n",
      "  (out): Linear(in_features=20, out_features=3, bias=True)\n",
      "  (dropout): Dropout(p=0.5, inplace=False)\n",
      ")\n"
     ]
    }
   ],
   "execution_count": 35
  },
  {
   "metadata": {
    "ExecuteTime": {
     "end_time": "2024-10-02T12:47:07.019450Z",
     "start_time": "2024-10-02T12:47:07.016178Z"
    }
   },
   "cell_type": "code",
   "source": [
    "# Define optimizer and loss function\n",
    "optimizer = optim.Adam(net.parameters(), lr=0.01)\n",
    "loss_fn = nn.CrossEntropyLoss()\n"
   ],
   "id": "602afd03188893f1",
   "outputs": [],
   "execution_count": 36
  },
  {
   "metadata": {
    "ExecuteTime": {
     "end_time": "2024-10-02T12:47:08.455236Z",
     "start_time": "2024-10-02T12:47:07.033546Z"
    }
   },
   "cell_type": "code",
   "source": [
    "# Train model\n",
    "epochs = 100\n",
    "losses = []\n",
    "\n",
    "for i in range(epochs):\n",
    "    y_pred = net.forward(X_train)\n",
    "    loss = loss_fn(y_pred, y_train)\n",
    "    losses.append(loss.item())\n",
    "    \n",
    "    optimizer.zero_grad()\n",
    "    loss.backward()\n",
    "    optimizer.step()\n",
    "    \n",
    "    if i % 10 == 0:\n",
    "        print(f'Epoch {i} loss: {loss.item()}')"
   ],
   "id": "b5699daca3ac29d8",
   "outputs": [
    {
     "name": "stdout",
     "output_type": "stream",
     "text": [
      "Epoch 0 loss: 1.0991390943527222\n",
      "Epoch 10 loss: 0.9004423022270203\n",
      "Epoch 20 loss: 0.7282534241676331\n",
      "Epoch 30 loss: 0.6506009101867676\n",
      "Epoch 40 loss: 0.6149715781211853\n",
      "Epoch 50 loss: 0.6015867590904236\n",
      "Epoch 60 loss: 0.5927668213844299\n",
      "Epoch 70 loss: 0.5867854356765747\n",
      "Epoch 80 loss: 0.5828245878219604\n",
      "Epoch 90 loss: 0.5818780064582825\n"
     ]
    }
   ],
   "execution_count": 37
  },
  {
   "metadata": {
    "ExecuteTime": {
     "end_time": "2024-10-02T12:47:08.540391Z",
     "start_time": "2024-10-02T12:47:08.470861Z"
    }
   },
   "cell_type": "code",
   "source": [
    "# Plot loss\n",
    "plt.plot(range(epochs), losses)\n",
    "plt.ylabel('Loss')\n",
    "plt.xlabel('Epoch')\n",
    "plt.show()\n"
   ],
   "id": "af1ce0babf9e7fae",
   "outputs": [
    {
     "data": {
      "text/plain": [
       "<Figure size 640x480 with 1 Axes>"
      ],
      "image/png": "[encoded data removed]"
     },
     "metadata": {},
     "output_type": "display_data"
    }
   ],
   "execution_count": 38
  },
  {
   "metadata": {
    "ExecuteTime": {
     "end_time": "2024-10-02T12:47:08.573696Z",
     "start_time": "2024-10-02T12:47:08.563275Z"
    }
   },
   "cell_type": "code",
   "source": [
    "# Evaluate model\n",
    "y_pred = net.forward(X_test)\n",
    "loss = loss_fn(y_pred, y_test)\n",
    "loss"
   ],
   "id": "9c06be8cfbf99d36",
   "outputs": [
    {
     "data": {
      "text/plain": [
       "tensor(0.5787, grad_fn=<NllLossBackward0>)"
      ]
     },
     "execution_count": 39,
     "metadata": {},
     "output_type": "execute_result"
    }
   ],
   "execution_count": 39
  },
  {
   "metadata": {
    "ExecuteTime": {
     "end_time": "2024-10-02T12:47:08.642994Z",
     "start_time": "2024-10-02T12:47:08.639727Z"
    }
   },
   "cell_type": "code",
   "source": [
    "# Convert predictions to labels\n",
    "y_pred = torch.argmax(y_pred, dim=1)"
   ],
   "id": "664ff7c2c2eda17f",
   "outputs": [],
   "execution_count": 40
  },
  {
   "metadata": {
    "ExecuteTime": {
     "end_time": "2024-10-02T12:47:08.669209Z",
     "start_time": "2024-10-02T12:47:08.662847Z"
    }
   },
   "cell_type": "code",
   "source": [
    "# Evaluate model\n",
    "from sklearn.metrics import classification_report, confusion_matrix\n",
    "\n",
    "print(confusion_matrix(y_test, y_pred))"
   ],
   "id": "954820d2c0421aff",
   "outputs": [
    {
     "name": "stdout",
     "output_type": "stream",
     "text": [
      "[[1995   20    9]\n",
      " [  74 1883    0]\n",
      " [  35    0 1830]]\n"
     ]
    }
   ],
   "execution_count": 41
  },
  {
   "metadata": {
    "ExecuteTime": {
     "end_time": "2024-10-02T12:47:08.734747Z",
     "start_time": "2024-10-02T12:47:08.721627Z"
    }
   },
   "cell_type": "code",
   "source": "print(classification_report(y_test, y_pred))",
   "id": "8d00a73507d5507b",
   "outputs": [
    {
     "name": "stdout",
     "output_type": "stream",
     "text": [
      "              precision    recall  f1-score   support\n",
      "\n",
      "           0       0.95      0.99      0.97      2024\n",
      "           1       0.99      0.96      0.98      1957\n",
      "           2       1.00      0.98      0.99      1865\n",
      "\n",
      "    accuracy                           0.98      5846\n",
      "   macro avg       0.98      0.98      0.98      5846\n",
      "weighted avg       0.98      0.98      0.98      5846\n",
      "\n"
     ]
    }
   ],
   "execution_count": 42
  },
  {
   "metadata": {
    "ExecuteTime": {
     "end_time": "2024-10-02T12:48:44.897942Z",
     "start_time": "2024-10-02T12:48:44.883145Z"
    }
   },
   "cell_type": "code",
   "source": [
    "# Save model\n",
    "torch.save(net, '/Models/Core/Plank/old/nn_model.pth')\n"
   ],
   "id": "e392839ff5f28ea6",
   "outputs": [],
   "execution_count": 44
  },
  {
   "metadata": {},
   "cell_type": "code",
   "outputs": [],
   "execution_count": null,
   "source": "",
   "id": "cb68d7db034d0949"
  }
 ],
 "metadata": {
  "kernelspec": {
   "display_name": "Python 3",
   "language": "python",
   "name": "python3"
  },
  "language_info": {
   "codemirror_mode": {
    "name": "ipython",
    "version": 2
   },
   "file_extension": ".py",
   "mimetype": "text/x-python",
   "name": "python",
   "nbconvert_exporter": "python",
   "pygments_lexer": "ipython2",
   "version": "2.7.6"
  }
 },
 "nbformat": 4,
 "nbformat_minor": 5
}
