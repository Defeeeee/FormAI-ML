{
 "cells": [
  {
   "metadata": {
    "ExecuteTime": {
     "end_time": "2024-10-09T13:13:46.577392Z",
     "start_time": "2024-10-09T13:13:46.555185Z"
    }
   },
   "cell_type": "code",
   "source": [
    "import numpy as np\n",
    "import matplotlib.pyplot as plt\n",
    "import pandas as pd\n",
    "import seaborn as sns\n",
    "from sklearn.model_selection import train_test_split\n",
    "from sklearn.preprocessing import StandardScaler\n",
    "\n",
    "# PyTorch\n",
    "import torch\n",
    "import torch.nn as nn\n",
    "import torch.nn.functional as F\n",
    "import torch.optim as optim\n",
    "from torch.utils.data import DataLoader, TensorDataset\n"
   ],
   "id": "dcb995e5843b206c",
   "outputs": [],
   "execution_count": 15
  },
  {
   "metadata": {
    "ExecuteTime": {
     "end_time": "2024-10-09T13:13:46.720347Z",
     "start_time": "2024-10-09T13:13:46.600215Z"
    }
   },
   "cell_type": "code",
   "source": [
    "# Load the dataset\n",
    "df = pd.read_csv('old/output.csv')\n",
    "df"
   ],
   "id": "6997bac543e92a86",
   "outputs": [
    {
     "data": {
      "text/plain": [
       "       left_shoulder_x  left_shoulder_y  right_shoulder_x  right_shoulder_y  \\\n",
       "0             0.274594         0.341100          0.296270          0.312207   \n",
       "1             0.274228         0.339355          0.296200          0.314031   \n",
       "2             0.274257         0.340742          0.295690          0.314558   \n",
       "3             0.274333         0.339990          0.295731          0.312993   \n",
       "4             0.274171         0.343735          0.295011          0.311912   \n",
       "...                ...              ...               ...               ...   \n",
       "29225         0.686127         0.417011          0.712502          0.438017   \n",
       "29226         0.693965         0.417500          0.718311          0.436175   \n",
       "29227         0.695831         0.417349          0.720067          0.432963   \n",
       "29228         0.704168         0.404210          0.730823          0.426571   \n",
       "29229         0.710651         0.394019          0.736771          0.422222   \n",
       "\n",
       "       left_hip_x  left_hip_y  right_hip_x  right_hip_y  left_knee_x  \\\n",
       "0        0.498838    0.277839     0.502045     0.276516     0.647718   \n",
       "1        0.499674    0.290913     0.502771     0.283680     0.651548   \n",
       "2        0.501407    0.301187     0.503510     0.287559     0.652140   \n",
       "3        0.502167    0.307759     0.504253     0.291864     0.653057   \n",
       "4        0.502102    0.310477     0.504130     0.292234     0.652161   \n",
       "...           ...         ...          ...          ...          ...   \n",
       "29225    0.489872    0.235213     0.489170     0.248146     0.352258   \n",
       "29226    0.496492    0.242646     0.495907     0.255783     0.359015   \n",
       "29227    0.498751    0.250418     0.498827     0.266152     0.361978   \n",
       "29228    0.505799    0.260387     0.505240     0.280236     0.369494   \n",
       "29229    0.508687    0.271043     0.507226     0.289651     0.377950   \n",
       "\n",
       "       left_knee_y  right_knee_x  right_knee_y  left_ankle_x  left_ankle_y  \\\n",
       "0         0.377252      0.644682      0.365430      0.796186      0.444226   \n",
       "1         0.386282      0.649158      0.370324      0.800622      0.451912   \n",
       "2         0.388949      0.650082      0.371274      0.800812      0.452804   \n",
       "3         0.392245      0.652118      0.371948      0.802255      0.449354   \n",
       "4         0.394069      0.651391      0.372265      0.802788      0.448811   \n",
       "...            ...           ...           ...           ...           ...   \n",
       "29225     0.368526      0.350424      0.391012      0.222121      0.484695   \n",
       "29226     0.371514      0.352901      0.394469      0.224898      0.485443   \n",
       "29227     0.379162      0.357031      0.397612      0.225877      0.485704   \n",
       "29228     0.387963      0.366603      0.407364      0.232543      0.491641   \n",
       "29229     0.395436      0.372969      0.412373      0.236024      0.495332   \n",
       "\n",
       "       right_ankle_x  right_ankle_y  label  \n",
       "0           0.789818       0.420560      0  \n",
       "1           0.794588       0.421224      0  \n",
       "2           0.794849       0.419406      0  \n",
       "3           0.798330       0.416195      0  \n",
       "4           0.798766       0.415271      0  \n",
       "...              ...            ...    ...  \n",
       "29225       0.211550       0.498153      2  \n",
       "29226       0.211625       0.499482      2  \n",
       "29227       0.212916       0.499286      2  \n",
       "29228       0.218939       0.505378      2  \n",
       "29229       0.220174       0.507410      2  \n",
       "\n",
       "[29230 rows x 17 columns]"
      ],
      "text/html": [
       "<div>\n",
       "<style scoped>\n",
       "    .dataframe tbody tr th:only-of-type {\n",
       "        vertical-align: middle;\n",
       "    }\n",
       "\n",
       "    .dataframe tbody tr th {\n",
       "        vertical-align: top;\n",
       "    }\n",
       "\n",
       "    .dataframe thead th {\n",
       "        text-align: right;\n",
       "    }\n",
       "</style>\n",
       "<table border=\"1\" class=\"dataframe\">\n",
       "  <thead>\n",
       "    <tr style=\"text-align: right;\">\n",
       "      <th></th>\n",
       "      <th>left_shoulder_x</th>\n",
       "      <th>left_shoulder_y</th>\n",
       "      <th>right_shoulder_x</th>\n",
       "      <th>right_shoulder_y</th>\n",
       "      <th>left_hip_x</th>\n",
       "      <th>left_hip_y</th>\n",
       "      <th>right_hip_x</th>\n",
       "      <th>right_hip_y</th>\n",
       "      <th>left_knee_x</th>\n",
       "      <th>left_knee_y</th>\n",
       "      <th>right_knee_x</th>\n",
       "      <th>right_knee_y</th>\n",
       "      <th>left_ankle_x</th>\n",
       "      <th>left_ankle_y</th>\n",
       "      <th>right_ankle_x</th>\n",
       "      <th>right_ankle_y</th>\n",
       "      <th>label</th>\n",
       "    </tr>\n",
       "  </thead>\n",
       "  <tbody>\n",
       "    <tr>\n",
       "      <th>0</th>\n",
       "      <td>0.274594</td>\n",
       "      <td>0.341100</td>\n",
       "      <td>0.296270</td>\n",
       "      <td>0.312207</td>\n",
       "      <td>0.498838</td>\n",
       "      <td>0.277839</td>\n",
       "      <td>0.502045</td>\n",
       "      <td>0.276516</td>\n",
       "      <td>0.647718</td>\n",
       "      <td>0.377252</td>\n",
       "      <td>0.644682</td>\n",
       "      <td>0.365430</td>\n",
       "      <td>0.796186</td>\n",
       "      <td>0.444226</td>\n",
       "      <td>0.789818</td>\n",
       "      <td>0.420560</td>\n",
       "      <td>0</td>\n",
       "    </tr>\n",
       "    <tr>\n",
       "      <th>1</th>\n",
       "      <td>0.274228</td>\n",
       "      <td>0.339355</td>\n",
       "      <td>0.296200</td>\n",
       "      <td>0.314031</td>\n",
       "      <td>0.499674</td>\n",
       "      <td>0.290913</td>\n",
       "      <td>0.502771</td>\n",
       "      <td>0.283680</td>\n",
       "      <td>0.651548</td>\n",
       "      <td>0.386282</td>\n",
       "      <td>0.649158</td>\n",
       "      <td>0.370324</td>\n",
       "      <td>0.800622</td>\n",
       "      <td>0.451912</td>\n",
       "      <td>0.794588</td>\n",
       "      <td>0.421224</td>\n",
       "      <td>0</td>\n",
       "    </tr>\n",
       "    <tr>\n",
       "      <th>2</th>\n",
       "      <td>0.274257</td>\n",
       "      <td>0.340742</td>\n",
       "      <td>0.295690</td>\n",
       "      <td>0.314558</td>\n",
       "      <td>0.501407</td>\n",
       "      <td>0.301187</td>\n",
       "      <td>0.503510</td>\n",
       "      <td>0.287559</td>\n",
       "      <td>0.652140</td>\n",
       "      <td>0.388949</td>\n",
       "      <td>0.650082</td>\n",
       "      <td>0.371274</td>\n",
       "      <td>0.800812</td>\n",
       "      <td>0.452804</td>\n",
       "      <td>0.794849</td>\n",
       "      <td>0.419406</td>\n",
       "      <td>0</td>\n",
       "    </tr>\n",
       "    <tr>\n",
       "      <th>3</th>\n",
       "      <td>0.274333</td>\n",
       "      <td>0.339990</td>\n",
       "      <td>0.295731</td>\n",
       "      <td>0.312993</td>\n",
       "      <td>0.502167</td>\n",
       "      <td>0.307759</td>\n",
       "      <td>0.504253</td>\n",
       "      <td>0.291864</td>\n",
       "      <td>0.653057</td>\n",
       "      <td>0.392245</td>\n",
       "      <td>0.652118</td>\n",
       "      <td>0.371948</td>\n",
       "      <td>0.802255</td>\n",
       "      <td>0.449354</td>\n",
       "      <td>0.798330</td>\n",
       "      <td>0.416195</td>\n",
       "      <td>0</td>\n",
       "    </tr>\n",
       "    <tr>\n",
       "      <th>4</th>\n",
       "      <td>0.274171</td>\n",
       "      <td>0.343735</td>\n",
       "      <td>0.295011</td>\n",
       "      <td>0.311912</td>\n",
       "      <td>0.502102</td>\n",
       "      <td>0.310477</td>\n",
       "      <td>0.504130</td>\n",
       "      <td>0.292234</td>\n",
       "      <td>0.652161</td>\n",
       "      <td>0.394069</td>\n",
       "      <td>0.651391</td>\n",
       "      <td>0.372265</td>\n",
       "      <td>0.802788</td>\n",
       "      <td>0.448811</td>\n",
       "      <td>0.798766</td>\n",
       "      <td>0.415271</td>\n",
       "      <td>0</td>\n",
       "    </tr>\n",
       "    <tr>\n",
       "      <th>...</th>\n",
       "      <td>...</td>\n",
       "      <td>...</td>\n",
       "      <td>...</td>\n",
       "      <td>...</td>\n",
       "      <td>...</td>\n",
       "      <td>...</td>\n",
       "      <td>...</td>\n",
       "      <td>...</td>\n",
       "      <td>...</td>\n",
       "      <td>...</td>\n",
       "      <td>...</td>\n",
       "      <td>...</td>\n",
       "      <td>...</td>\n",
       "      <td>...</td>\n",
       "      <td>...</td>\n",
       "      <td>...</td>\n",
       "      <td>...</td>\n",
       "    </tr>\n",
       "    <tr>\n",
       "      <th>29225</th>\n",
       "      <td>0.686127</td>\n",
       "      <td>0.417011</td>\n",
       "      <td>0.712502</td>\n",
       "      <td>0.438017</td>\n",
       "      <td>0.489872</td>\n",
       "      <td>0.235213</td>\n",
       "      <td>0.489170</td>\n",
       "      <td>0.248146</td>\n",
       "      <td>0.352258</td>\n",
       "      <td>0.368526</td>\n",
       "      <td>0.350424</td>\n",
       "      <td>0.391012</td>\n",
       "      <td>0.222121</td>\n",
       "      <td>0.484695</td>\n",
       "      <td>0.211550</td>\n",
       "      <td>0.498153</td>\n",
       "      <td>2</td>\n",
       "    </tr>\n",
       "    <tr>\n",
       "      <th>29226</th>\n",
       "      <td>0.693965</td>\n",
       "      <td>0.417500</td>\n",
       "      <td>0.718311</td>\n",
       "      <td>0.436175</td>\n",
       "      <td>0.496492</td>\n",
       "      <td>0.242646</td>\n",
       "      <td>0.495907</td>\n",
       "      <td>0.255783</td>\n",
       "      <td>0.359015</td>\n",
       "      <td>0.371514</td>\n",
       "      <td>0.352901</td>\n",
       "      <td>0.394469</td>\n",
       "      <td>0.224898</td>\n",
       "      <td>0.485443</td>\n",
       "      <td>0.211625</td>\n",
       "      <td>0.499482</td>\n",
       "      <td>2</td>\n",
       "    </tr>\n",
       "    <tr>\n",
       "      <th>29227</th>\n",
       "      <td>0.695831</td>\n",
       "      <td>0.417349</td>\n",
       "      <td>0.720067</td>\n",
       "      <td>0.432963</td>\n",
       "      <td>0.498751</td>\n",
       "      <td>0.250418</td>\n",
       "      <td>0.498827</td>\n",
       "      <td>0.266152</td>\n",
       "      <td>0.361978</td>\n",
       "      <td>0.379162</td>\n",
       "      <td>0.357031</td>\n",
       "      <td>0.397612</td>\n",
       "      <td>0.225877</td>\n",
       "      <td>0.485704</td>\n",
       "      <td>0.212916</td>\n",
       "      <td>0.499286</td>\n",
       "      <td>2</td>\n",
       "    </tr>\n",
       "    <tr>\n",
       "      <th>29228</th>\n",
       "      <td>0.704168</td>\n",
       "      <td>0.404210</td>\n",
       "      <td>0.730823</td>\n",
       "      <td>0.426571</td>\n",
       "      <td>0.505799</td>\n",
       "      <td>0.260387</td>\n",
       "      <td>0.505240</td>\n",
       "      <td>0.280236</td>\n",
       "      <td>0.369494</td>\n",
       "      <td>0.387963</td>\n",
       "      <td>0.366603</td>\n",
       "      <td>0.407364</td>\n",
       "      <td>0.232543</td>\n",
       "      <td>0.491641</td>\n",
       "      <td>0.218939</td>\n",
       "      <td>0.505378</td>\n",
       "      <td>2</td>\n",
       "    </tr>\n",
       "    <tr>\n",
       "      <th>29229</th>\n",
       "      <td>0.710651</td>\n",
       "      <td>0.394019</td>\n",
       "      <td>0.736771</td>\n",
       "      <td>0.422222</td>\n",
       "      <td>0.508687</td>\n",
       "      <td>0.271043</td>\n",
       "      <td>0.507226</td>\n",
       "      <td>0.289651</td>\n",
       "      <td>0.377950</td>\n",
       "      <td>0.395436</td>\n",
       "      <td>0.372969</td>\n",
       "      <td>0.412373</td>\n",
       "      <td>0.236024</td>\n",
       "      <td>0.495332</td>\n",
       "      <td>0.220174</td>\n",
       "      <td>0.507410</td>\n",
       "      <td>2</td>\n",
       "    </tr>\n",
       "  </tbody>\n",
       "</table>\n",
       "<p>29230 rows × 17 columns</p>\n",
       "</div>"
      ]
     },
     "execution_count": 16,
     "metadata": {},
     "output_type": "execute_result"
    }
   ],
   "execution_count": 16
  },
  {
   "metadata": {
    "ExecuteTime": {
     "end_time": "2024-10-09T13:13:46.984274Z",
     "start_time": "2024-10-09T13:13:46.821069Z"
    }
   },
   "cell_type": "code",
   "source": [
    "# plot the label distribution between 0, 1 and 2 value counts\n",
    "df[\"label\"].value_counts().plot(kind='bar')\n"
   ],
   "id": "16b437b69c9303fb",
   "outputs": [
    {
     "data": {
      "text/plain": [
       "<Axes: xlabel='label'>"
      ]
     },
     "execution_count": 17,
     "metadata": {},
     "output_type": "execute_result"
    },
    {
     "data": {
      "text/plain": [
       "<Figure size 640x480 with 1 Axes>"
      ],
      "image/png": "[encoded data removed]"
     },
     "metadata": {},
     "output_type": "display_data"
    }
   ],
   "execution_count": 17
  },
  {
   "metadata": {
    "ExecuteTime": {
     "end_time": "2024-10-09T13:13:47.038979Z",
     "start_time": "2024-10-09T13:13:47.024929Z"
    }
   },
   "cell_type": "code",
   "source": "df.columns",
   "id": "cad784fdc5b0a96a",
   "outputs": [
    {
     "data": {
      "text/plain": [
       "Index(['left_shoulder_x', 'left_shoulder_y', 'right_shoulder_x',\n",
       "       'right_shoulder_y', 'left_hip_x', 'left_hip_y', 'right_hip_x',\n",
       "       'right_hip_y', 'left_knee_x', 'left_knee_y', 'right_knee_x',\n",
       "       'right_knee_y', 'left_ankle_x', 'left_ankle_y', 'right_ankle_x',\n",
       "       'right_ankle_y', 'label'],\n",
       "      dtype='object')"
      ]
     },
     "execution_count": 18,
     "metadata": {},
     "output_type": "execute_result"
    }
   ],
   "execution_count": 18
  },
  {
   "metadata": {
    "ExecuteTime": {
     "end_time": "2024-10-09T13:13:47.075946Z",
     "start_time": "2024-10-09T13:13:47.069441Z"
    }
   },
   "cell_type": "code",
   "source": [
    "# check for missing values\n",
    "df.isnull().sum()"
   ],
   "id": "a24e639071ac3c2d",
   "outputs": [
    {
     "data": {
      "text/plain": [
       "left_shoulder_x     0\n",
       "left_shoulder_y     0\n",
       "right_shoulder_x    0\n",
       "right_shoulder_y    0\n",
       "left_hip_x          0\n",
       "left_hip_y          0\n",
       "right_hip_x         0\n",
       "right_hip_y         0\n",
       "left_knee_x         0\n",
       "left_knee_y         0\n",
       "right_knee_x        0\n",
       "right_knee_y        0\n",
       "left_ankle_x        0\n",
       "left_ankle_y        0\n",
       "right_ankle_x       0\n",
       "right_ankle_y       0\n",
       "label               0\n",
       "dtype: int64"
      ]
     },
     "execution_count": 19,
     "metadata": {},
     "output_type": "execute_result"
    }
   ],
   "execution_count": 19
  },
  {
   "metadata": {
    "ExecuteTime": {
     "end_time": "2024-10-09T13:13:47.159125Z",
     "start_time": "2024-10-09T13:13:47.146723Z"
    }
   },
   "cell_type": "code",
   "source": [
    "# drop the missing values\n",
    "df = df.dropna()\n",
    "df.isnull().sum()"
   ],
   "id": "978b0e335789550a",
   "outputs": [
    {
     "data": {
      "text/plain": [
       "left_shoulder_x     0\n",
       "left_shoulder_y     0\n",
       "right_shoulder_x    0\n",
       "right_shoulder_y    0\n",
       "left_hip_x          0\n",
       "left_hip_y          0\n",
       "right_hip_x         0\n",
       "right_hip_y         0\n",
       "left_knee_x         0\n",
       "left_knee_y         0\n",
       "right_knee_x        0\n",
       "right_knee_y        0\n",
       "left_ankle_x        0\n",
       "left_ankle_y        0\n",
       "right_ankle_x       0\n",
       "right_ankle_y       0\n",
       "label               0\n",
       "dtype: int64"
      ]
     },
     "execution_count": 20,
     "metadata": {},
     "output_type": "execute_result"
    }
   ],
   "execution_count": 20
  },
  {
   "metadata": {},
   "cell_type": "markdown",
   "source": "# Preprocessing",
   "id": "f138119d219d8176"
  },
  {
   "metadata": {
    "ExecuteTime": {
     "end_time": "2024-10-09T13:13:47.264505Z",
     "start_time": "2024-10-09T13:13:47.227324Z"
    }
   },
   "cell_type": "code",
   "source": [
    "# Split the dataset into features and labels\n",
    "X = df.drop('label', axis=1)\n",
    "y = df['label']\n",
    "\n",
    "# Split the dataset into training and testing sets\n",
    "X_train, X_test, y_train, y_test = train_test_split(X, y, test_size=0.2, random_state=42)\n",
    "\n",
    "# Standardize the features\n",
    "scaler = StandardScaler()\n",
    "X_train = scaler.fit_transform(X_train)\n",
    "X_test = scaler.transform(X_test)\n",
    "\n",
    "# Convert the NumPy arrays to PyTorch tensors\n",
    "X_train = torch.FloatTensor(X_train)\n",
    "X_test = torch.FloatTensor(X_test)\n",
    "y_train = torch.LongTensor(y_train.values)\n",
    "y_test = torch.LongTensor(y_test.values)\n",
    "\n",
    "# Create a DataLoader\n",
    "trainloader = DataLoader(TensorDataset(X_train, y_train), batch_size=64, shuffle=True)\n",
    "testloader = DataLoader(TensorDataset(X_test, y_test), batch_size=64, shuffle=False)\n"
   ],
   "id": "f9f09eb9147e21e7",
   "outputs": [],
   "execution_count": 21
  },
  {
   "metadata": {
    "ExecuteTime": {
     "end_time": "2024-10-09T13:13:47.328153Z",
     "start_time": "2024-10-09T13:13:47.325507Z"
    }
   },
   "cell_type": "code",
   "source": [
    "class Net(nn.Module):\n",
    "    def __init__(self):\n",
    "        super(Net, self).__init__()\n",
    "        self.fc1 = nn.Linear(16, 64)  # Change input size to 16\n",
    "        self.fc2 = nn.Linear(64, 64)\n",
    "        self.fc3 = nn.Linear(64, 3)\n",
    "\n",
    "    def forward(self, x):\n",
    "        x = F.relu(self.fc1(x))\n",
    "        x = F.relu(self.fc2(x))\n",
    "        x = self.fc3(x)\n",
    "        return x"
   ],
   "id": "246d5b8010347bd5",
   "outputs": [],
   "execution_count": 22
  },
  {
   "metadata": {
    "ExecuteTime": {
     "end_time": "2024-10-09T13:13:47.397754Z",
     "start_time": "2024-10-09T13:13:47.391329Z"
    }
   },
   "cell_type": "code",
   "source": [
    "# Initialize the model\n",
    "model = Net()\n",
    "\n",
    "# Define the loss function and the optimizer\n",
    "criterion = nn.CrossEntropyLoss()\n",
    "optimizer = optim.Adam(model.parameters(), lr=0.01)\n"
   ],
   "id": "8e6f73d1f0aaa2e8",
   "outputs": [],
   "execution_count": 23
  },
  {
   "metadata": {
    "ExecuteTime": {
     "end_time": "2024-10-09T13:14:14.449536Z",
     "start_time": "2024-10-09T13:13:47.432362Z"
    }
   },
   "cell_type": "code",
   "source": [
    "# Train the model\n",
    "n_epochs = 100\n",
    "train_losses = np.zeros(n_epochs)\n",
    "test_losses = np.zeros(n_epochs)\n",
    "\n",
    "for it in range(n_epochs):\n",
    "    model.train()\n",
    "    for inputs, targets in trainloader:\n",
    "        optimizer.zero_grad()\n",
    "        outputs = model(inputs)\n",
    "        loss = criterion(outputs, targets)\n",
    "        loss.backward()\n",
    "        optimizer.step()\n",
    "        train_losses[it] = loss.item()\n",
    "\n",
    "    model.eval()\n",
    "    for inputs, targets in testloader:\n",
    "        outputs = model(inputs)\n",
    "        loss = criterion(outputs, targets)\n",
    "        test_losses[it] = loss.item()\n",
    "\n",
    "    print(f'Epoch {it+1}/{n_epochs}, Train Loss: {train_losses[it]:.4f}, Test Loss: {test_losses[it]:.4f}')\n",
    "    "
   ],
   "id": "8bf941bb3eb78595",
   "outputs": [
    {
     "name": "stdout",
     "output_type": "stream",
     "text": [
      "Epoch 1/100, Train Loss: 0.0001, Test Loss: 0.0491\n",
      "Epoch 2/100, Train Loss: 0.0004, Test Loss: 0.0251\n",
      "Epoch 3/100, Train Loss: 0.0029, Test Loss: 0.1116\n",
      "Epoch 4/100, Train Loss: 0.0423, Test Loss: 0.0061\n",
      "Epoch 5/100, Train Loss: 0.0008, Test Loss: 0.0134\n",
      "Epoch 6/100, Train Loss: 0.0606, Test Loss: 0.0057\n",
      "Epoch 7/100, Train Loss: 0.0016, Test Loss: 0.0197\n",
      "Epoch 8/100, Train Loss: 0.0131, Test Loss: 0.1164\n",
      "Epoch 9/100, Train Loss: 0.0026, Test Loss: 0.0010\n",
      "Epoch 10/100, Train Loss: 0.0002, Test Loss: 0.0774\n",
      "Epoch 11/100, Train Loss: 0.0003, Test Loss: 0.0029\n",
      "Epoch 12/100, Train Loss: 0.0016, Test Loss: 0.0094\n",
      "Epoch 13/100, Train Loss: 0.0015, Test Loss: 0.0033\n",
      "Epoch 14/100, Train Loss: 0.0381, Test Loss: 0.0106\n",
      "Epoch 15/100, Train Loss: 0.0005, Test Loss: 0.0170\n",
      "Epoch 16/100, Train Loss: 0.0019, Test Loss: 0.0145\n",
      "Epoch 17/100, Train Loss: 0.0009, Test Loss: 0.0108\n",
      "Epoch 18/100, Train Loss: 0.0095, Test Loss: 0.0034\n",
      "Epoch 19/100, Train Loss: 0.0032, Test Loss: 0.0027\n",
      "Epoch 20/100, Train Loss: 0.0025, Test Loss: 0.0019\n",
      "Epoch 21/100, Train Loss: 0.0003, Test Loss: 0.0047\n",
      "Epoch 22/100, Train Loss: 0.0007, Test Loss: 0.0027\n",
      "Epoch 23/100, Train Loss: 0.0020, Test Loss: 0.0193\n",
      "Epoch 24/100, Train Loss: 0.0001, Test Loss: 0.0064\n",
      "Epoch 25/100, Train Loss: 0.0004, Test Loss: 0.0053\n",
      "Epoch 26/100, Train Loss: 0.0022, Test Loss: 0.0048\n",
      "Epoch 27/100, Train Loss: 0.0017, Test Loss: 0.0625\n",
      "Epoch 28/100, Train Loss: 0.0003, Test Loss: 0.0054\n",
      "Epoch 29/100, Train Loss: 0.0011, Test Loss: 0.0017\n",
      "Epoch 30/100, Train Loss: 0.0007, Test Loss: 0.0034\n",
      "Epoch 31/100, Train Loss: 0.0009, Test Loss: 0.0105\n",
      "Epoch 32/100, Train Loss: 0.0013, Test Loss: 0.0028\n",
      "Epoch 33/100, Train Loss: 0.0010, Test Loss: 0.0047\n",
      "Epoch 34/100, Train Loss: 0.0259, Test Loss: 0.0150\n",
      "Epoch 35/100, Train Loss: 0.0037, Test Loss: 0.0031\n",
      "Epoch 36/100, Train Loss: 0.0002, Test Loss: 0.0018\n",
      "Epoch 37/100, Train Loss: 0.1109, Test Loss: 0.0059\n",
      "Epoch 38/100, Train Loss: 0.0001, Test Loss: 0.0054\n",
      "Epoch 39/100, Train Loss: 0.2252, Test Loss: 0.0022\n",
      "Epoch 40/100, Train Loss: 0.0023, Test Loss: 0.0040\n",
      "Epoch 41/100, Train Loss: 0.0025, Test Loss: 0.0085\n",
      "Epoch 42/100, Train Loss: 0.0009, Test Loss: 0.0239\n",
      "Epoch 43/100, Train Loss: 0.0150, Test Loss: 0.0109\n",
      "Epoch 44/100, Train Loss: 0.0000, Test Loss: 0.0043\n",
      "Epoch 45/100, Train Loss: 0.0005, Test Loss: 0.0037\n",
      "Epoch 46/100, Train Loss: 0.0019, Test Loss: 0.0058\n",
      "Epoch 47/100, Train Loss: 0.0009, Test Loss: 0.0030\n",
      "Epoch 48/100, Train Loss: 0.0007, Test Loss: 0.0032\n",
      "Epoch 49/100, Train Loss: 0.0190, Test Loss: 0.0020\n",
      "Epoch 50/100, Train Loss: 0.0011, Test Loss: 0.0020\n",
      "Epoch 51/100, Train Loss: 0.0014, Test Loss: 0.0035\n",
      "Epoch 52/100, Train Loss: 0.2419, Test Loss: 0.0030\n",
      "Epoch 53/100, Train Loss: 0.0004, Test Loss: 0.0040\n",
      "Epoch 54/100, Train Loss: 0.0011, Test Loss: 0.0032\n",
      "Epoch 55/100, Train Loss: 0.0030, Test Loss: 0.0027\n",
      "Epoch 56/100, Train Loss: 0.0008, Test Loss: 0.0029\n",
      "Epoch 57/100, Train Loss: 0.0020, Test Loss: 0.0326\n",
      "Epoch 58/100, Train Loss: 0.0002, Test Loss: 0.0015\n",
      "Epoch 59/100, Train Loss: 0.0006, Test Loss: 0.0037\n",
      "Epoch 60/100, Train Loss: 0.0010, Test Loss: 0.0566\n",
      "Epoch 61/100, Train Loss: 0.0563, Test Loss: 0.0050\n",
      "Epoch 62/100, Train Loss: 0.0014, Test Loss: 0.0026\n",
      "Epoch 63/100, Train Loss: 0.0009, Test Loss: 0.0113\n",
      "Epoch 64/100, Train Loss: 0.0292, Test Loss: 0.0046\n",
      "Epoch 65/100, Train Loss: 0.0018, Test Loss: 0.0029\n",
      "Epoch 66/100, Train Loss: 0.0010, Test Loss: 0.0055\n",
      "Epoch 67/100, Train Loss: 0.0011, Test Loss: 0.0019\n",
      "Epoch 68/100, Train Loss: 0.0010, Test Loss: 0.0031\n",
      "Epoch 69/100, Train Loss: 0.0060, Test Loss: 0.0021\n",
      "Epoch 70/100, Train Loss: 0.0009, Test Loss: 0.0014\n",
      "Epoch 71/100, Train Loss: 0.0002, Test Loss: 0.0018\n",
      "Epoch 72/100, Train Loss: 0.0282, Test Loss: 0.0030\n",
      "Epoch 73/100, Train Loss: 0.0000, Test Loss: 0.0075\n",
      "Epoch 74/100, Train Loss: 0.0001, Test Loss: 0.0037\n",
      "Epoch 75/100, Train Loss: 0.2171, Test Loss: 0.0126\n",
      "Epoch 76/100, Train Loss: 0.0012, Test Loss: 0.0043\n",
      "Epoch 77/100, Train Loss: 0.0013, Test Loss: 0.0017\n",
      "Epoch 78/100, Train Loss: 0.0257, Test Loss: 0.0023\n",
      "Epoch 79/100, Train Loss: 0.0004, Test Loss: 0.0042\n",
      "Epoch 80/100, Train Loss: 0.0005, Test Loss: 0.0198\n",
      "Epoch 81/100, Train Loss: 0.0004, Test Loss: 0.0027\n",
      "Epoch 82/100, Train Loss: 0.0015, Test Loss: 0.0015\n",
      "Epoch 83/100, Train Loss: 0.0011, Test Loss: 0.0046\n",
      "Epoch 84/100, Train Loss: 0.0007, Test Loss: 0.0037\n",
      "Epoch 85/100, Train Loss: 0.0102, Test Loss: 0.0026\n",
      "Epoch 86/100, Train Loss: 0.0011, Test Loss: 0.0076\n",
      "Epoch 87/100, Train Loss: 0.0002, Test Loss: 0.0066\n",
      "Epoch 88/100, Train Loss: 0.0009, Test Loss: 0.0021\n",
      "Epoch 89/100, Train Loss: 0.0012, Test Loss: 0.0082\n",
      "Epoch 90/100, Train Loss: 0.0017, Test Loss: 0.0098\n",
      "Epoch 91/100, Train Loss: 0.0010, Test Loss: 0.0059\n",
      "Epoch 92/100, Train Loss: 0.0006, Test Loss: 0.0086\n",
      "Epoch 93/100, Train Loss: 0.0634, Test Loss: 0.0070\n",
      "Epoch 94/100, Train Loss: 0.0009, Test Loss: 0.0073\n",
      "Epoch 95/100, Train Loss: 0.0006, Test Loss: 0.0030\n",
      "Epoch 96/100, Train Loss: 0.0003, Test Loss: 0.0033\n",
      "Epoch 97/100, Train Loss: 0.0010, Test Loss: 0.0036\n",
      "Epoch 98/100, Train Loss: 0.0008, Test Loss: 0.0024\n",
      "Epoch 99/100, Train Loss: 0.0004, Test Loss: 0.0026\n",
      "Epoch 100/100, Train Loss: 0.1464, Test Loss: 0.0070\n"
     ]
    }
   ],
   "execution_count": 24
  },
  {
   "metadata": {
    "ExecuteTime": {
     "end_time": "2024-10-09T13:14:34.086182Z",
     "start_time": "2024-10-09T13:14:33.947033Z"
    }
   },
   "cell_type": "code",
   "source": [
    "# Plot the train loss and test loss per iteration\n",
    "plt.plot(train_losses, label='train loss')\n",
    "plt.plot(test_losses, label='test loss')\n",
    "plt.legend()\n",
    "plt.show()\n"
   ],
   "id": "5f42a7ede636e1a3",
   "outputs": [
    {
     "data": {
      "text/plain": [
       "<Figure size 640x480 with 1 Axes>"
      ],
      "image/png": "[encoded data removed]"
     },
     "metadata": {},
     "output_type": "display_data"
    }
   ],
   "execution_count": 25
  },
  {
   "metadata": {
    "ExecuteTime": {
     "end_time": "2024-10-09T13:15:30.413634Z",
     "start_time": "2024-10-09T13:15:30.264161Z"
    }
   },
   "cell_type": "code",
   "source": [
    "# Accuracy\n",
    "n_correct = 0.\n",
    "n_total = 0.\n",
    "for inputs, targets in trainloader:\n",
    "    outputs = model(inputs)\n",
    "    _, predictions = torch.max(outputs, 1)\n",
    "    n_correct += (predictions == targets).sum().item()\n",
    "    n_total += targets.shape[0]\n",
    "train_acc = n_correct / n_total\n",
    "\n",
    "train_acc\n",
    "    "
   ],
   "id": "f751f26ff31f21b0",
   "outputs": [
    {
     "data": {
      "text/plain": [
       "0.9947399931577147"
      ]
     },
     "execution_count": 28,
     "metadata": {},
     "output_type": "execute_result"
    }
   ],
   "execution_count": 28
  },
  {
   "metadata": {
    "ExecuteTime": {
     "end_time": "2024-10-09T13:32:32.121286Z",
     "start_time": "2024-10-09T13:32:31.616967Z"
    }
   },
   "cell_type": "code",
   "source": [
    "# confusion matrix plot\n",
    "from sklearn.metrics import confusion_matrix\n",
    "import itertools\n",
    "\n",
    "def plot_confusion_matrix(cm, classes, normalize=False, title='Confusion matrix', cmap=plt.cm.Blues):\n",
    "    if normalize:\n",
    "        cm = cm.astype('float') / cm.sum(axis=1)[:, np.newaxis]\n",
    "        print(\"Normalized confusion matrix\")\n",
    "    else:\n",
    "        print('Confusion matrix, without normalization')\n",
    "\n",
    "    print(cm)\n",
    "\n",
    "    plt.imshow(cm, interpolation='nearest', cmap=cmap)\n",
    "    plt.title(title)\n",
    "    plt.colorbar()\n",
    "    tick_marks = np.arange(len(classes))\n",
    "    plt.xticks(tick_marks, classes, rotation=45)\n",
    "    plt.yticks(tick_marks, classes)\n",
    "\n",
    "    fmt = '.2f' if normalize else 'd'\n",
    "    thresh = cm.max() / 2.\n",
    "    for i, j in itertools.product(range(cm.shape[0]), range(cm.shape[1])):\n",
    "        plt.text(j, i, format(cm[i, j], fmt), horizontalalignment=\"center\", color=\"white\" if cm[i, j] > thresh else \"black\")\n",
    "\n",
    "    plt.tight_layout()\n",
    "    plt.ylabel('True label')\n",
    "    plt.xlabel('Predicted label')\n",
    "    plt.show()\n",
    "    \n",
    "# Get all predictions in an array and plot the confusion matrix\n",
    "model.eval()\n",
    "predictions = []\n",
    "targets = []\n",
    "for inputs, targets_batch in testloader:\n",
    "    outputs = model(inputs)\n",
    "    _, preds = torch.max(outputs, 1)\n",
    "    predictions.extend(preds)\n",
    "    targets.extend(targets_batch)\n",
    "\n",
    "predictions = torch.stack(predictions).cpu()\n",
    "targets = torch.stack(targets).cpu()\n",
    "cm = confusion_matrix(targets, predictions)\n",
    "plot_confusion_matrix(cm, list(range(3)))"
   ],
   "id": "4abede34a53c330d",
   "outputs": [
    {
     "name": "stdout",
     "output_type": "stream",
     "text": [
      "Confusion matrix, without normalization\n",
      "[[2001   23    0]\n",
      " [  11 1946    0]\n",
      " [   1    0 1864]]\n"
     ]
    },
    {
     "data": {
      "text/plain": [
       "<Figure size 640x480 with 2 Axes>"
      ],
      "image/png": "[encoded data removed]"
     },
     "metadata": {},
     "output_type": "display_data"
    }
   ],
   "execution_count": 47
  },
  {
   "metadata": {
    "ExecuteTime": {
     "end_time": "2024-10-09T13:34:08.091041Z",
     "start_time": "2024-10-09T13:34:08.056363Z"
    }
   },
   "cell_type": "code",
   "source": [
    "import torch.onnx\n",
    "\n",
    "# Create a dummy input tensor with the correct shape\n",
    "dummy_input = torch.randn(1, 16)  # Adjust the shape if needed\n",
    "\n",
    "# Export the model to ONNX format\n",
    "torch.onnx.export(model, dummy_input, \"/Users/defeee/Downloads/model.onnx\", verbose=False)"
   ],
   "id": "177fb36089848c57",
   "outputs": [],
   "execution_count": 52
  },
  {
   "metadata": {},
   "cell_type": "code",
   "outputs": [],
   "execution_count": null,
   "source": "",
   "id": "d45036f584e68b72"
  }
 ],
 "metadata": {
  "kernelspec": {
   "display_name": "Python 3",
   "language": "python",
   "name": "python3"
  },
  "language_info": {
   "codemirror_mode": {
    "name": "ipython",
    "version": 2
   },
   "file_extension": ".py",
   "mimetype": "text/x-python",
   "name": "python",
   "nbconvert_exporter": "python",
   "pygments_lexer": "ipython2",
   "version": "2.7.6"
  }
 },
 "nbformat": 4,
 "nbformat_minor": 5
}
