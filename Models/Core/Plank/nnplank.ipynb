{
 "cells": [
  {
   "metadata": {
    "ExecuteTime": {
     "end_time": "2024-11-03T00:26:52.860833Z",
     "start_time": "2024-11-03T00:26:52.848491Z"
    }
   },
   "cell_type": "code",
   "source": [
    "import numpy as np\n",
    "import matplotlib.pyplot as plt\n",
    "import pandas as pd\n",
    "import seaborn as sns\n",
    "from sklearn.model_selection import train_test_split\n",
    "from sklearn.preprocessing import StandardScaler\n",
    "\n",
    "# PyTorch\n",
    "import torch\n",
    "import torch.nn as nn\n",
    "import torch.nn.functional as F\n",
    "import torch.optim as optim\n",
    "from torch.utils.data import DataLoader, TensorDataset\n",
    "\n",
    "import torchsummary as ts"
   ],
   "id": "dcb995e5843b206c",
   "outputs": [],
   "execution_count": 143
  },
  {
   "metadata": {
    "ExecuteTime": {
     "end_time": "2024-11-03T00:26:52.942329Z",
     "start_time": "2024-11-03T00:26:52.873594Z"
    }
   },
   "cell_type": "code",
   "source": [
    "# Load the dataset\n",
    "df = pd.read_csv('/Users/defeee/Documents/GitHub/FormAI-ML/Computer_Vision/output.csv')\n",
    "df"
   ],
   "id": "6997bac543e92a86",
   "outputs": [
    {
     "data": {
      "text/plain": [
       "       left_shoulder_x  left_shoulder_y  right_shoulder_x  right_shoulder_y  \\\n",
       "0             0.682632         0.539670          0.996880          0.688922   \n",
       "1             0.682624         0.539675          0.996868          0.688926   \n",
       "2             0.682617         0.539684          0.996864          0.688927   \n",
       "3             0.682611         0.539690          0.996866          0.688929   \n",
       "4             0.682607         0.539697          0.996867          0.688932   \n",
       "...                ...              ...               ...               ...   \n",
       "28515         0.686127         0.417011          0.996643          0.712502   \n",
       "28516         0.693965         0.417500          0.996030          0.718311   \n",
       "28517         0.695831         0.417349          0.995723          0.720067   \n",
       "28518         0.704168         0.404210          0.995909          0.730823   \n",
       "28519         0.710651         0.394019          0.996123          0.736771   \n",
       "\n",
       "       left_hip_x  left_hip_y  right_hip_x  right_hip_y  left_knee_x  \\\n",
       "0        0.463277    0.536225     0.998657     0.465695    -0.190254   \n",
       "1        0.463239    0.536264     0.998668     0.465639    -0.190281   \n",
       "2        0.463195    0.536287     0.998674     0.465606    -0.190295   \n",
       "3        0.463165    0.536316     0.998681     0.465584    -0.190309   \n",
       "4        0.463147    0.536339     0.998687     0.465562    -0.190329   \n",
       "...           ...         ...          ...          ...          ...   \n",
       "28515    0.489872    0.235213     0.998557     0.489170    -0.101551   \n",
       "28516    0.496492    0.242646     0.998489     0.495907    -0.103113   \n",
       "28517    0.498751    0.250418     0.998554     0.498827    -0.102726   \n",
       "28518    0.505799    0.260387     0.998713     0.505240    -0.097528   \n",
       "28519    0.508687    0.271043     0.998845     0.507226    -0.097090   \n",
       "\n",
       "       left_knee_y  right_knee_x  right_knee_y  left_ankle_x  left_ankle_y  \\\n",
       "0         0.998821      0.572954      0.200359      0.274128      0.583428   \n",
       "1         0.998832      0.572959      0.201216      0.274039      0.583418   \n",
       "2         0.998838      0.572959      0.201382      0.273962      0.583404   \n",
       "3         0.998845      0.572966      0.201938      0.273858      0.583396   \n",
       "4         0.998852      0.572971      0.202401      0.273796      0.583392   \n",
       "...            ...           ...           ...           ...           ...   \n",
       "28515     0.999375      0.368526      0.136638      0.350424      0.391012   \n",
       "28516     0.999353      0.371514      0.147981      0.352901      0.394469   \n",
       "28517     0.999379      0.379162      0.154614      0.357031      0.397612   \n",
       "28518     0.999436      0.387963      0.148810      0.366603      0.407364   \n",
       "28519     0.999495      0.395436      0.156435      0.372969      0.412373   \n",
       "\n",
       "       right_ankle_x  right_ankle_y  label  \n",
       "0           0.955437       0.097867      0  \n",
       "1           0.955734       0.097985      0  \n",
       "2           0.955850       0.098010      0  \n",
       "3           0.955986       0.098054      0  \n",
       "4           0.956118       0.098110      0  \n",
       "...              ...            ...    ...  \n",
       "28515       0.982530       0.222121      2  \n",
       "28516       0.982714       0.224898      2  \n",
       "28517       0.983205       0.225877      2  \n",
       "28518       0.983505       0.232543      2  \n",
       "28519       0.983473       0.236024      2  \n",
       "\n",
       "[28520 rows x 17 columns]"
      ],
      "text/html": [
       "<div>\n",
       "<style scoped>\n",
       "    .dataframe tbody tr th:only-of-type {\n",
       "        vertical-align: middle;\n",
       "    }\n",
       "\n",
       "    .dataframe tbody tr th {\n",
       "        vertical-align: top;\n",
       "    }\n",
       "\n",
       "    .dataframe thead th {\n",
       "        text-align: right;\n",
       "    }\n",
       "</style>\n",
       "<table border=\"1\" class=\"dataframe\">\n",
       "  <thead>\n",
       "    <tr style=\"text-align: right;\">\n",
       "      <th></th>\n",
       "      <th>left_shoulder_x</th>\n",
       "      <th>left_shoulder_y</th>\n",
       "      <th>right_shoulder_x</th>\n",
       "      <th>right_shoulder_y</th>\n",
       "      <th>left_hip_x</th>\n",
       "      <th>left_hip_y</th>\n",
       "      <th>right_hip_x</th>\n",
       "      <th>right_hip_y</th>\n",
       "      <th>left_knee_x</th>\n",
       "      <th>left_knee_y</th>\n",
       "      <th>right_knee_x</th>\n",
       "      <th>right_knee_y</th>\n",
       "      <th>left_ankle_x</th>\n",
       "      <th>left_ankle_y</th>\n",
       "      <th>right_ankle_x</th>\n",
       "      <th>right_ankle_y</th>\n",
       "      <th>label</th>\n",
       "    </tr>\n",
       "  </thead>\n",
       "  <tbody>\n",
       "    <tr>\n",
       "      <th>0</th>\n",
       "      <td>0.682632</td>\n",
       "      <td>0.539670</td>\n",
       "      <td>0.996880</td>\n",
       "      <td>0.688922</td>\n",
       "      <td>0.463277</td>\n",
       "      <td>0.536225</td>\n",
       "      <td>0.998657</td>\n",
       "      <td>0.465695</td>\n",
       "      <td>-0.190254</td>\n",
       "      <td>0.998821</td>\n",
       "      <td>0.572954</td>\n",
       "      <td>0.200359</td>\n",
       "      <td>0.274128</td>\n",
       "      <td>0.583428</td>\n",
       "      <td>0.955437</td>\n",
       "      <td>0.097867</td>\n",
       "      <td>0</td>\n",
       "    </tr>\n",
       "    <tr>\n",
       "      <th>1</th>\n",
       "      <td>0.682624</td>\n",
       "      <td>0.539675</td>\n",
       "      <td>0.996868</td>\n",
       "      <td>0.688926</td>\n",
       "      <td>0.463239</td>\n",
       "      <td>0.536264</td>\n",
       "      <td>0.998668</td>\n",
       "      <td>0.465639</td>\n",
       "      <td>-0.190281</td>\n",
       "      <td>0.998832</td>\n",
       "      <td>0.572959</td>\n",
       "      <td>0.201216</td>\n",
       "      <td>0.274039</td>\n",
       "      <td>0.583418</td>\n",
       "      <td>0.955734</td>\n",
       "      <td>0.097985</td>\n",
       "      <td>0</td>\n",
       "    </tr>\n",
       "    <tr>\n",
       "      <th>2</th>\n",
       "      <td>0.682617</td>\n",
       "      <td>0.539684</td>\n",
       "      <td>0.996864</td>\n",
       "      <td>0.688927</td>\n",
       "      <td>0.463195</td>\n",
       "      <td>0.536287</td>\n",
       "      <td>0.998674</td>\n",
       "      <td>0.465606</td>\n",
       "      <td>-0.190295</td>\n",
       "      <td>0.998838</td>\n",
       "      <td>0.572959</td>\n",
       "      <td>0.201382</td>\n",
       "      <td>0.273962</td>\n",
       "      <td>0.583404</td>\n",
       "      <td>0.955850</td>\n",
       "      <td>0.098010</td>\n",
       "      <td>0</td>\n",
       "    </tr>\n",
       "    <tr>\n",
       "      <th>3</th>\n",
       "      <td>0.682611</td>\n",
       "      <td>0.539690</td>\n",
       "      <td>0.996866</td>\n",
       "      <td>0.688929</td>\n",
       "      <td>0.463165</td>\n",
       "      <td>0.536316</td>\n",
       "      <td>0.998681</td>\n",
       "      <td>0.465584</td>\n",
       "      <td>-0.190309</td>\n",
       "      <td>0.998845</td>\n",
       "      <td>0.572966</td>\n",
       "      <td>0.201938</td>\n",
       "      <td>0.273858</td>\n",
       "      <td>0.583396</td>\n",
       "      <td>0.955986</td>\n",
       "      <td>0.098054</td>\n",
       "      <td>0</td>\n",
       "    </tr>\n",
       "    <tr>\n",
       "      <th>4</th>\n",
       "      <td>0.682607</td>\n",
       "      <td>0.539697</td>\n",
       "      <td>0.996867</td>\n",
       "      <td>0.688932</td>\n",
       "      <td>0.463147</td>\n",
       "      <td>0.536339</td>\n",
       "      <td>0.998687</td>\n",
       "      <td>0.465562</td>\n",
       "      <td>-0.190329</td>\n",
       "      <td>0.998852</td>\n",
       "      <td>0.572971</td>\n",
       "      <td>0.202401</td>\n",
       "      <td>0.273796</td>\n",
       "      <td>0.583392</td>\n",
       "      <td>0.956118</td>\n",
       "      <td>0.098110</td>\n",
       "      <td>0</td>\n",
       "    </tr>\n",
       "    <tr>\n",
       "      <th>...</th>\n",
       "      <td>...</td>\n",
       "      <td>...</td>\n",
       "      <td>...</td>\n",
       "      <td>...</td>\n",
       "      <td>...</td>\n",
       "      <td>...</td>\n",
       "      <td>...</td>\n",
       "      <td>...</td>\n",
       "      <td>...</td>\n",
       "      <td>...</td>\n",
       "      <td>...</td>\n",
       "      <td>...</td>\n",
       "      <td>...</td>\n",
       "      <td>...</td>\n",
       "      <td>...</td>\n",
       "      <td>...</td>\n",
       "      <td>...</td>\n",
       "    </tr>\n",
       "    <tr>\n",
       "      <th>28515</th>\n",
       "      <td>0.686127</td>\n",
       "      <td>0.417011</td>\n",
       "      <td>0.996643</td>\n",
       "      <td>0.712502</td>\n",
       "      <td>0.489872</td>\n",
       "      <td>0.235213</td>\n",
       "      <td>0.998557</td>\n",
       "      <td>0.489170</td>\n",
       "      <td>-0.101551</td>\n",
       "      <td>0.999375</td>\n",
       "      <td>0.368526</td>\n",
       "      <td>0.136638</td>\n",
       "      <td>0.350424</td>\n",
       "      <td>0.391012</td>\n",
       "      <td>0.982530</td>\n",
       "      <td>0.222121</td>\n",
       "      <td>2</td>\n",
       "    </tr>\n",
       "    <tr>\n",
       "      <th>28516</th>\n",
       "      <td>0.693965</td>\n",
       "      <td>0.417500</td>\n",
       "      <td>0.996030</td>\n",
       "      <td>0.718311</td>\n",
       "      <td>0.496492</td>\n",
       "      <td>0.242646</td>\n",
       "      <td>0.998489</td>\n",
       "      <td>0.495907</td>\n",
       "      <td>-0.103113</td>\n",
       "      <td>0.999353</td>\n",
       "      <td>0.371514</td>\n",
       "      <td>0.147981</td>\n",
       "      <td>0.352901</td>\n",
       "      <td>0.394469</td>\n",
       "      <td>0.982714</td>\n",
       "      <td>0.224898</td>\n",
       "      <td>2</td>\n",
       "    </tr>\n",
       "    <tr>\n",
       "      <th>28517</th>\n",
       "      <td>0.695831</td>\n",
       "      <td>0.417349</td>\n",
       "      <td>0.995723</td>\n",
       "      <td>0.720067</td>\n",
       "      <td>0.498751</td>\n",
       "      <td>0.250418</td>\n",
       "      <td>0.998554</td>\n",
       "      <td>0.498827</td>\n",
       "      <td>-0.102726</td>\n",
       "      <td>0.999379</td>\n",
       "      <td>0.379162</td>\n",
       "      <td>0.154614</td>\n",
       "      <td>0.357031</td>\n",
       "      <td>0.397612</td>\n",
       "      <td>0.983205</td>\n",
       "      <td>0.225877</td>\n",
       "      <td>2</td>\n",
       "    </tr>\n",
       "    <tr>\n",
       "      <th>28518</th>\n",
       "      <td>0.704168</td>\n",
       "      <td>0.404210</td>\n",
       "      <td>0.995909</td>\n",
       "      <td>0.730823</td>\n",
       "      <td>0.505799</td>\n",
       "      <td>0.260387</td>\n",
       "      <td>0.998713</td>\n",
       "      <td>0.505240</td>\n",
       "      <td>-0.097528</td>\n",
       "      <td>0.999436</td>\n",
       "      <td>0.387963</td>\n",
       "      <td>0.148810</td>\n",
       "      <td>0.366603</td>\n",
       "      <td>0.407364</td>\n",
       "      <td>0.983505</td>\n",
       "      <td>0.232543</td>\n",
       "      <td>2</td>\n",
       "    </tr>\n",
       "    <tr>\n",
       "      <th>28519</th>\n",
       "      <td>0.710651</td>\n",
       "      <td>0.394019</td>\n",
       "      <td>0.996123</td>\n",
       "      <td>0.736771</td>\n",
       "      <td>0.508687</td>\n",
       "      <td>0.271043</td>\n",
       "      <td>0.998845</td>\n",
       "      <td>0.507226</td>\n",
       "      <td>-0.097090</td>\n",
       "      <td>0.999495</td>\n",
       "      <td>0.395436</td>\n",
       "      <td>0.156435</td>\n",
       "      <td>0.372969</td>\n",
       "      <td>0.412373</td>\n",
       "      <td>0.983473</td>\n",
       "      <td>0.236024</td>\n",
       "      <td>2</td>\n",
       "    </tr>\n",
       "  </tbody>\n",
       "</table>\n",
       "<p>28520 rows × 17 columns</p>\n",
       "</div>"
      ]
     },
     "execution_count": 144,
     "metadata": {},
     "output_type": "execute_result"
    }
   ],
   "execution_count": 144
  },
  {
   "metadata": {
    "ExecuteTime": {
     "end_time": "2024-11-03T00:26:53.053009Z",
     "start_time": "2024-11-03T00:26:52.982496Z"
    }
   },
   "cell_type": "code",
   "source": [
    "# plot the label distribution between 0, 1 and 2 value counts\n",
    "df[\"label\"].value_counts().plot(kind='bar')\n"
   ],
   "id": "16b437b69c9303fb",
   "outputs": [
    {
     "data": {
      "text/plain": [
       "<Axes: xlabel='label'>"
      ]
     },
     "execution_count": 145,
     "metadata": {},
     "output_type": "execute_result"
    },
    {
     "data": {
      "text/plain": [
       "<Figure size 640x480 with 1 Axes>"
      ],
      "image/png": "[encoded data removed]"
     },
     "metadata": {},
     "output_type": "display_data"
    }
   ],
   "execution_count": 145
  },
  {
   "metadata": {
    "ExecuteTime": {
     "end_time": "2024-11-03T00:26:53.082824Z",
     "start_time": "2024-11-03T00:26:53.075556Z"
    }
   },
   "cell_type": "code",
   "source": "df.columns",
   "id": "cad784fdc5b0a96a",
   "outputs": [
    {
     "data": {
      "text/plain": [
       "Index(['left_shoulder_x', 'left_shoulder_y', 'right_shoulder_x',\n",
       "       'right_shoulder_y', 'left_hip_x', 'left_hip_y', 'right_hip_x',\n",
       "       'right_hip_y', 'left_knee_x', 'left_knee_y', 'right_knee_x',\n",
       "       'right_knee_y', 'left_ankle_x', 'left_ankle_y', 'right_ankle_x',\n",
       "       'right_ankle_y', 'label'],\n",
       "      dtype='object')"
      ]
     },
     "execution_count": 146,
     "metadata": {},
     "output_type": "execute_result"
    }
   ],
   "execution_count": 146
  },
  {
   "metadata": {
    "ExecuteTime": {
     "end_time": "2024-11-03T00:26:53.154957Z",
     "start_time": "2024-11-03T00:26:53.148814Z"
    }
   },
   "cell_type": "code",
   "source": [
    "# check for missing values\n",
    "df.isnull().sum()"
   ],
   "id": "a24e639071ac3c2d",
   "outputs": [
    {
     "data": {
      "text/plain": [
       "left_shoulder_x     0\n",
       "left_shoulder_y     0\n",
       "right_shoulder_x    0\n",
       "right_shoulder_y    0\n",
       "left_hip_x          0\n",
       "left_hip_y          0\n",
       "right_hip_x         0\n",
       "right_hip_y         0\n",
       "left_knee_x         0\n",
       "left_knee_y         0\n",
       "right_knee_x        0\n",
       "right_knee_y        0\n",
       "left_ankle_x        0\n",
       "left_ankle_y        0\n",
       "right_ankle_x       0\n",
       "right_ankle_y       0\n",
       "label               0\n",
       "dtype: int64"
      ]
     },
     "execution_count": 147,
     "metadata": {},
     "output_type": "execute_result"
    }
   ],
   "execution_count": 147
  },
  {
   "metadata": {
    "ExecuteTime": {
     "end_time": "2024-11-03T00:26:53.208212Z",
     "start_time": "2024-11-03T00:26:53.200482Z"
    }
   },
   "cell_type": "code",
   "source": [
    "# drop the missing values\n",
    "df = df.dropna()\n",
    "df.isnull().sum()"
   ],
   "id": "978b0e335789550a",
   "outputs": [
    {
     "data": {
      "text/plain": [
       "left_shoulder_x     0\n",
       "left_shoulder_y     0\n",
       "right_shoulder_x    0\n",
       "right_shoulder_y    0\n",
       "left_hip_x          0\n",
       "left_hip_y          0\n",
       "right_hip_x         0\n",
       "right_hip_y         0\n",
       "left_knee_x         0\n",
       "left_knee_y         0\n",
       "right_knee_x        0\n",
       "right_knee_y        0\n",
       "left_ankle_x        0\n",
       "left_ankle_y        0\n",
       "right_ankle_x       0\n",
       "right_ankle_y       0\n",
       "label               0\n",
       "dtype: int64"
      ]
     },
     "execution_count": 148,
     "metadata": {},
     "output_type": "execute_result"
    }
   ],
   "execution_count": 148
  },
  {
   "metadata": {},
   "cell_type": "markdown",
   "source": "# Preprocessing",
   "id": "f138119d219d8176"
  },
  {
   "metadata": {
    "ExecuteTime": {
     "end_time": "2024-11-03T00:26:53.292164Z",
     "start_time": "2024-11-03T00:26:53.278994Z"
    }
   },
   "cell_type": "code",
   "source": [
    "# Split the dataset into features and labels\n",
    "X = df.drop('label', axis=1)\n",
    "y = df['label']\n",
    "\n",
    "# Split the dataset into training and testing sets\n",
    "X_train, X_test, y_train, y_test = train_test_split(X, y, test_size=0.2, random_state=42)\n",
    "\n",
    "# Standardize the features\n",
    "scaler = StandardScaler()\n",
    "X_train = scaler.fit_transform(X_train)\n",
    "X_test = scaler.transform(X_test)\n",
    "\n",
    "# Convert the NumPy arrays to PyTorch tensors\n",
    "X_train = torch.FloatTensor(X_train)\n",
    "X_test = torch.FloatTensor(X_test)\n",
    "y_train = torch.LongTensor(y_train.values)\n",
    "y_test = torch.LongTensor(y_test.values)\n",
    "\n",
    "# Create a DataLoader\n",
    "trainloader = DataLoader(TensorDataset(X_train, y_train), batch_size=64, shuffle=True)\n",
    "testloader = DataLoader(TensorDataset(X_test, y_test), batch_size=64, shuffle=False)\n"
   ],
   "id": "f9f09eb9147e21e7",
   "outputs": [],
   "execution_count": 149
  },
  {
   "metadata": {
    "ExecuteTime": {
     "end_time": "2024-11-03T00:26:53.322155Z",
     "start_time": "2024-11-03T00:26:53.319155Z"
    }
   },
   "cell_type": "code",
   "source": [
    "class Net(nn.Module):\n",
    "    def __init__(self):\n",
    "        super().__init__()\n",
    "        # with 3 hidden layers with 128 neurons each and ReLU activation and a final output layer with 3 neurons and softmax activation\n",
    "        self.linear_relu_stack = nn.Sequential(\n",
    "            nn.Linear(16, 256),\n",
    "            nn.ReLU(),\n",
    "            nn.Linear(256, 512),\n",
    "            nn.ReLU(),\n",
    "            nn.Linear(512, 256),\n",
    "            nn.ReLU(),\n",
    "            nn.Linear(256, 256),\n",
    "            nn.ReLU(),\n",
    "            nn.Linear(256, 256),\n",
    "            nn.ReLU(),\n",
    "            nn.Linear(256, 256),\n",
    "            nn.ReLU(),\n",
    "            nn.Linear(256, 3)\n",
    "        )\n",
    "\n",
    "    def forward(self, x):\n",
    "        return self.linear_relu_stack(x)"
   ],
   "id": "246d5b8010347bd5",
   "outputs": [],
   "execution_count": 150
  },
  {
   "metadata": {
    "ExecuteTime": {
     "end_time": "2024-11-03T00:26:53.362761Z",
     "start_time": "2024-11-03T00:26:53.356418Z"
    }
   },
   "cell_type": "code",
   "source": [
    "# Initialize the model\n",
    "model = Net()\n",
    "\n",
    "# Define the loss function and the optimizer\n",
    "criterion = nn.CrossEntropyLoss()\n",
    "optimizer = optim.Adam(model.parameters(), lr=0.01)\n"
   ],
   "id": "8e6f73d1f0aaa2e8",
   "outputs": [],
   "execution_count": 151
  },
  {
   "metadata": {
    "ExecuteTime": {
     "end_time": "2024-11-03T00:27:07.921749Z",
     "start_time": "2024-11-03T00:26:53.380444Z"
    }
   },
   "cell_type": "code",
   "source": [
    "# Train the model\n",
    "n_epochs = 15\n",
    "train_losses = np.zeros(n_epochs)\n",
    "test_losses = np.zeros(n_epochs)\n",
    "\n",
    "for it in range(n_epochs):\n",
    "    model.train()\n",
    "    for inputs, targets in trainloader:\n",
    "        optimizer.zero_grad()\n",
    "        outputs = model(inputs)\n",
    "        loss = criterion(outputs, targets)\n",
    "        loss.backward()\n",
    "        optimizer.step()\n",
    "        train_losses[it] = loss.item()\n",
    "\n",
    "    model.eval()\n",
    "    for inputs, targets in testloader:\n",
    "        outputs = model(inputs)\n",
    "        loss = criterion(outputs, targets)\n",
    "        test_losses[it] = loss.item()\n",
    "\n",
    "    print(f'Epoch {it+1}/{n_epochs}, Train Loss: {train_losses[it]:.4f}, Test Loss: {test_losses[it]:.4f}')\n",
    "    "
   ],
   "id": "8bf941bb3eb78595",
   "outputs": [
    {
     "name": "stdout",
     "output_type": "stream",
     "text": [
      "Epoch 1/15, Train Loss: 0.0037, Test Loss: 0.0000\n",
      "Epoch 2/15, Train Loss: 0.0010, Test Loss: 0.0003\n",
      "Epoch 3/15, Train Loss: 0.0055, Test Loss: 0.0058\n",
      "Epoch 4/15, Train Loss: 0.0006, Test Loss: 0.0061\n",
      "Epoch 5/15, Train Loss: 0.0439, Test Loss: 0.0002\n",
      "Epoch 6/15, Train Loss: 0.0541, Test Loss: 0.0125\n",
      "Epoch 7/15, Train Loss: 0.1899, Test Loss: 0.7545\n",
      "Epoch 8/15, Train Loss: 0.0089, Test Loss: 0.0156\n",
      "Epoch 9/15, Train Loss: 0.0082, Test Loss: 0.0207\n",
      "Epoch 10/15, Train Loss: 0.0384, Test Loss: 0.0327\n",
      "Epoch 11/15, Train Loss: 0.0011, Test Loss: 0.0026\n",
      "Epoch 12/15, Train Loss: 0.0016, Test Loss: 0.0025\n",
      "Epoch 13/15, Train Loss: 0.0014, Test Loss: 0.0021\n",
      "Epoch 14/15, Train Loss: 0.0043, Test Loss: 0.0057\n",
      "Epoch 15/15, Train Loss: 0.0020, Test Loss: 0.0027\n"
     ]
    }
   ],
   "execution_count": 152
  },
  {
   "metadata": {
    "ExecuteTime": {
     "end_time": "2024-11-03T00:27:08.057221Z",
     "start_time": "2024-11-03T00:27:07.969535Z"
    }
   },
   "cell_type": "code",
   "source": [
    "# Plot the train loss and test loss per iteration\n",
    "plt.plot(train_losses, label='train loss')\n",
    "plt.plot(test_losses, label='test loss')\n",
    "plt.legend()\n",
    "plt.show()\n"
   ],
   "id": "5f42a7ede636e1a3",
   "outputs": [
    {
     "data": {
      "text/plain": [
       "<Figure size 640x480 with 1 Axes>"
      ],
      "image/png": "[encoded data removed]"
     },
     "metadata": {},
     "output_type": "display_data"
    }
   ],
   "execution_count": 153
  },
  {
   "metadata": {
    "ExecuteTime": {
     "end_time": "2024-11-03T00:27:08.365444Z",
     "start_time": "2024-11-03T00:27:08.082346Z"
    }
   },
   "cell_type": "code",
   "source": [
    "# Accuracy\n",
    "n_correct = 0.\n",
    "n_total = 0.\n",
    "for inputs, targets in trainloader:\n",
    "    outputs = model(inputs)\n",
    "    _, predictions = torch.max(outputs, 1)\n",
    "    n_correct += (predictions == targets).sum().item()\n",
    "    n_total += targets.shape[0]\n",
    "train_acc = n_correct / n_total\n",
    "\n",
    "train_acc\n",
    "    "
   ],
   "id": "f751f26ff31f21b0",
   "outputs": [
    {
     "data": {
      "text/plain": [
       "0.9985974754558204"
      ]
     },
     "execution_count": 154,
     "metadata": {},
     "output_type": "execute_result"
    }
   ],
   "execution_count": 154
  },
  {
   "metadata": {
    "ExecuteTime": {
     "end_time": "2024-11-03T00:27:08.575208Z",
     "start_time": "2024-11-03T00:27:08.372540Z"
    }
   },
   "cell_type": "code",
   "source": [
    "# confusion matrix plot\n",
    "from sklearn.metrics import confusion_matrix\n",
    "import itertools\n",
    "\n",
    "def plot_confusion_matrix(cm, classes, normalize=False, title='Confusion matrix', cmap=plt.cm.Blues):\n",
    "    if normalize:\n",
    "        cm = cm.astype('float') / cm.sum(axis=1)[:, np.newaxis]\n",
    "        print(\"Normalized confusion matrix\")\n",
    "    else:\n",
    "        print('Confusion matrix, without normalization')\n",
    "\n",
    "    print(cm)\n",
    "\n",
    "    plt.imshow(cm, interpolation='nearest', cmap=cmap)\n",
    "    plt.title(title)\n",
    "    plt.colorbar()\n",
    "    tick_marks = np.arange(len(classes))\n",
    "    plt.xticks(tick_marks, classes, rotation=45)\n",
    "    plt.yticks(tick_marks, classes)\n",
    "\n",
    "    fmt = '.2f' if normalize else 'd'\n",
    "    thresh = cm.max() / 2.\n",
    "    for i, j in itertools.product(range(cm.shape[0]), range(cm.shape[1])):\n",
    "        plt.text(j, i, format(cm[i, j], fmt), horizontalalignment=\"center\", color=\"white\" if cm[i, j] > thresh else \"black\")\n",
    "\n",
    "    plt.tight_layout()\n",
    "    plt.ylabel('True label')\n",
    "    plt.xlabel('Predicted label')\n",
    "    plt.show()\n",
    "    \n",
    "# Get all predictions in an array and plot the confusion matrix\n",
    "model.eval()\n",
    "predictions = []\n",
    "targets = []\n",
    "for inputs, targets_batch in testloader:\n",
    "    outputs = model(inputs)\n",
    "    _, preds = torch.max(outputs, 1)\n",
    "    predictions.extend(preds)\n",
    "    targets.extend(targets_batch)\n",
    "\n",
    "predictions = torch.stack(predictions).cpu()\n",
    "targets = torch.stack(targets).cpu()\n",
    "cm = confusion_matrix(targets, predictions)\n",
    "plot_confusion_matrix(cm, list(range(3)))"
   ],
   "id": "4abede34a53c330d",
   "outputs": [
    {
     "name": "stdout",
     "output_type": "stream",
     "text": [
      "Confusion matrix, without normalization\n",
      "[[1974    4    0]\n",
      " [   8 1942    0]\n",
      " [   2    0 1774]]\n"
     ]
    },
    {
     "data": {
      "text/plain": [
       "<Figure size 640x480 with 2 Axes>"
      ],
      "image/png": "[encoded data removed]"
     },
     "metadata": {},
     "output_type": "display_data"
    }
   ],
   "execution_count": 155
  },
  {
   "metadata": {
    "ExecuteTime": {
     "end_time": "2024-11-03T00:27:08.609512Z",
     "start_time": "2024-11-03T00:27:08.594443Z"
    }
   },
   "cell_type": "code",
   "source": "torch.save(model, '/Users/defeee/Documents/GitHub/FormAI-ML/Models/Core/Plank/model.pth')",
   "id": "177fb36089848c57",
   "outputs": [],
   "execution_count": 156
  },
  {
   "metadata": {
    "ExecuteTime": {
     "end_time": "2024-11-03T00:27:08.629786Z",
     "start_time": "2024-11-03T00:27:08.626634Z"
    }
   },
   "cell_type": "code",
   "source": "df.columns",
   "id": "d45036f584e68b72",
   "outputs": [
    {
     "data": {
      "text/plain": [
       "Index(['left_shoulder_x', 'left_shoulder_y', 'right_shoulder_x',\n",
       "       'right_shoulder_y', 'left_hip_x', 'left_hip_y', 'right_hip_x',\n",
       "       'right_hip_y', 'left_knee_x', 'left_knee_y', 'right_knee_x',\n",
       "       'right_knee_y', 'left_ankle_x', 'left_ankle_y', 'right_ankle_x',\n",
       "       'right_ankle_y', 'label'],\n",
       "      dtype='object')"
      ]
     },
     "execution_count": 157,
     "metadata": {},
     "output_type": "execute_result"
    }
   ],
   "execution_count": 157
  },
  {
   "metadata": {
    "ExecuteTime": {
     "end_time": "2024-11-03T00:27:08.654087Z",
     "start_time": "2024-11-03T00:27:08.646679Z"
    }
   },
   "cell_type": "code",
   "source": "ts.summary(model, (16,))",
   "id": "12ea279f765bf9ac",
   "outputs": [
    {
     "name": "stdout",
     "output_type": "stream",
     "text": [
      "----------------------------------------------------------------\n",
      "        Layer (type)               Output Shape         Param #\n",
      "================================================================\n",
      "            Linear-1                  [-1, 256]           4,352\n",
      "              ReLU-2                  [-1, 256]               0\n",
      "            Linear-3                  [-1, 512]         131,584\n",
      "              ReLU-4                  [-1, 512]               0\n",
      "            Linear-5                  [-1, 256]         131,328\n",
      "              ReLU-6                  [-1, 256]               0\n",
      "            Linear-7                  [-1, 256]          65,792\n",
      "              ReLU-8                  [-1, 256]               0\n",
      "            Linear-9                  [-1, 256]          65,792\n",
      "             ReLU-10                  [-1, 256]               0\n",
      "           Linear-11                  [-1, 256]          65,792\n",
      "             ReLU-12                  [-1, 256]               0\n",
      "           Linear-13                    [-1, 3]             771\n",
      "================================================================\n",
      "Total params: 465,411\n",
      "Trainable params: 465,411\n",
      "Non-trainable params: 0\n",
      "----------------------------------------------------------------\n",
      "Input size (MB): 0.00\n",
      "Forward/backward pass size (MB): 0.03\n",
      "Params size (MB): 1.78\n",
      "Estimated Total Size (MB): 1.80\n",
      "----------------------------------------------------------------\n"
     ]
    }
   ],
   "execution_count": 158
  },
  {
   "metadata": {
    "ExecuteTime": {
     "end_time": "2024-11-03T00:27:08.673146Z",
     "start_time": "2024-11-03T00:27:08.670060Z"
    }
   },
   "cell_type": "code",
   "source": "",
   "id": "2c2981d29e0440ed",
   "outputs": [],
   "execution_count": null
  }
 ],
 "metadata": {
  "kernelspec": {
   "display_name": "Python 3",
   "language": "python",
   "name": "python3"
  },
  "language_info": {
   "codemirror_mode": {
    "name": "ipython",
    "version": 2
   },
   "file_extension": ".py",
   "mimetype": "text/x-python",
   "name": "python",
   "nbconvert_exporter": "python",
   "pygments_lexer": "ipython2",
   "version": "2.7.6"
  }
 },
 "nbformat": 4,
 "nbformat_minor": 5
}
