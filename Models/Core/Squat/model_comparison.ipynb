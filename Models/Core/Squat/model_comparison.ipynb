{
 "cells": [
  {
   "metadata": {},
   "cell_type": "markdown",
   "source": "### 1.0 Import Libraries",
   "id": "f5364bf980e2e8ed"
  },
  {
   "cell_type": "code",
   "id": "initial_id",
   "metadata": {
    "collapsed": true,
    "ExecuteTime": {
     "end_time": "2024-09-16T22:22:13.370039Z",
     "start_time": "2024-09-16T22:22:13.345820Z"
    }
   },
   "source": [
    "import pandas as pd\n",
    "import numpy as np\n",
    "import matplotlib.pyplot as plt\n",
    "import seaborn as sns\n",
    "from sklearn.model_selection import train_test_split\n",
    "from sklearn.preprocessing import StandardScaler\n",
    "from sklearn.linear_model import LogisticRegression\n",
    "from sklearn.ensemble import RandomForestClassifier\n",
    "from sklearn.svm import SVC\n",
    "from sklearn.model_selection import GridSearchCV\n",
    "from sklearn.model_selection import cross_val_score\n",
    "from sklearn.metrics import roc_curve, roc_auc_score, accuracy_score, precision_score, recall_score, f1_score, precision_recall_curve, auc, average_precision_score, classification_report, confusion_matrix"
   ],
   "outputs": [],
   "execution_count": 13
  },
  {
   "metadata": {},
   "cell_type": "markdown",
   "source": "### 2.0 Load Data",
   "id": "fc499afa7cc40d22"
  },
  {
   "metadata": {
    "ExecuteTime": {
     "end_time": "2024-09-16T22:22:13.513728Z",
     "start_time": "2024-09-16T22:22:13.419651Z"
    }
   },
   "cell_type": "code",
   "source": [
    "df = pd.read_csv('./squatdata.csv')\n",
    "\n",
    "df"
   ],
   "id": "6520b7f9ffa998e1",
   "outputs": [
    {
     "data": {
      "text/plain": [
       "     label    nose_x    nose_y    nose_z    nose_v  left_shoulder_x  \\\n",
       "0       up  0.534843  0.147982 -0.268309  0.999982         0.579393   \n",
       "1       up  0.534616  0.146347 -0.199155  0.999993         0.574378   \n",
       "2       up  0.534515  0.146301 -0.191119  0.999994         0.574328   \n",
       "3       up  0.534432  0.146312 -0.182685  0.999995         0.574492   \n",
       "4       up  0.534422  0.146302 -0.170359  0.999996         0.574919   \n",
       "...    ...       ...       ...       ...       ...              ...   \n",
       "5008    up  0.407681  0.090363 -0.287707  0.999993         0.457613   \n",
       "5009    up  0.403316  0.086621 -0.279820  0.999994         0.453319   \n",
       "5010    up  0.399570  0.081523 -0.348003  0.999994         0.450707   \n",
       "5011    up  0.396185  0.075364 -0.335939  0.999993         0.449960   \n",
       "5012    up  0.394879  0.062543 -0.328748  0.999992         0.448787   \n",
       "\n",
       "      left_shoulder_y  left_shoulder_z  left_shoulder_v  right_shoulder_x  \\\n",
       "0            0.231487        -0.096035         0.999980          0.492536   \n",
       "1            0.239949        -0.032144         0.999986          0.490907   \n",
       "2            0.239890        -0.029094         0.999986          0.490821   \n",
       "3            0.239809        -0.027983         0.999987          0.490665   \n",
       "4            0.239827        -0.025521         0.999988          0.490680   \n",
       "...               ...              ...              ...               ...   \n",
       "5008         0.180879        -0.118367         0.999982          0.368265   \n",
       "5009         0.178047        -0.111507         0.999983          0.361666   \n",
       "5010         0.175864        -0.152738         0.999983          0.358344   \n",
       "5011         0.171554        -0.155685         0.999981          0.355112   \n",
       "5012         0.165415        -0.148869         0.999979          0.350392   \n",
       "\n",
       "      ...  right_knee_z  right_knee_v  left_ankle_x  left_ankle_y  \\\n",
       "0     ...     -0.072671      0.985612      0.578099      0.759075   \n",
       "1     ...     -0.017558      0.990454      0.582109      0.757138   \n",
       "2     ...     -0.019129      0.990599      0.582669      0.757638   \n",
       "3     ...     -0.014492      0.990645      0.582858      0.757781   \n",
       "4     ...     -0.007411      0.990738      0.582845      0.757678   \n",
       "...   ...           ...           ...           ...           ...   \n",
       "5008  ...      0.015476      0.990355      0.465322      0.739908   \n",
       "5009  ...     -0.037429      0.987010      0.445196      0.740407   \n",
       "5010  ...     -0.050147      0.960627      0.433110      0.738969   \n",
       "5011  ...     -0.042933      0.866298      0.411662      0.742109   \n",
       "5012  ...     -0.030713      0.761500      0.406711      0.737579   \n",
       "\n",
       "      left_ankle_z  left_ankle_v  right_ankle_x  right_ankle_y  right_ankle_z  \\\n",
       "0         0.027200      0.972405       0.490069       0.744006       0.044383   \n",
       "1         0.098183      0.980775       0.481687       0.766540       0.092971   \n",
       "2         0.093466      0.980843       0.481825       0.768170       0.090635   \n",
       "3         0.080272      0.981120       0.481921       0.767088       0.097178   \n",
       "4         0.073182      0.981676       0.481950       0.761946       0.107647   \n",
       "...            ...           ...            ...            ...            ...   \n",
       "5008     -0.043127      0.987645       0.403436       0.751272       0.135333   \n",
       "5009     -0.025684      0.986913       0.403065       0.751742       0.043211   \n",
       "5010     -0.073337      0.980069       0.404907       0.752917       0.034485   \n",
       "5011     -0.206554      0.954389       0.406328       0.752424       0.020928   \n",
       "5012     -0.198017      0.914796       0.404178       0.738680       0.040376   \n",
       "\n",
       "      right_ankle_v  \n",
       "0          0.978160  \n",
       "1          0.987461  \n",
       "2          0.987959  \n",
       "3          0.988489  \n",
       "4          0.988776  \n",
       "...             ...  \n",
       "5008       0.992430  \n",
       "5009       0.990292  \n",
       "5010       0.974134  \n",
       "5011       0.914790  \n",
       "5012       0.831108  \n",
       "\n",
       "[5013 rows x 37 columns]"
      ],
      "text/html": [
       "<div>\n",
       "<style scoped>\n",
       "    .dataframe tbody tr th:only-of-type {\n",
       "        vertical-align: middle;\n",
       "    }\n",
       "\n",
       "    .dataframe tbody tr th {\n",
       "        vertical-align: top;\n",
       "    }\n",
       "\n",
       "    .dataframe thead th {\n",
       "        text-align: right;\n",
       "    }\n",
       "</style>\n",
       "<table border=\"1\" class=\"dataframe\">\n",
       "  <thead>\n",
       "    <tr style=\"text-align: right;\">\n",
       "      <th></th>\n",
       "      <th>label</th>\n",
       "      <th>nose_x</th>\n",
       "      <th>nose_y</th>\n",
       "      <th>nose_z</th>\n",
       "      <th>nose_v</th>\n",
       "      <th>left_shoulder_x</th>\n",
       "      <th>left_shoulder_y</th>\n",
       "      <th>left_shoulder_z</th>\n",
       "      <th>left_shoulder_v</th>\n",
       "      <th>right_shoulder_x</th>\n",
       "      <th>...</th>\n",
       "      <th>right_knee_z</th>\n",
       "      <th>right_knee_v</th>\n",
       "      <th>left_ankle_x</th>\n",
       "      <th>left_ankle_y</th>\n",
       "      <th>left_ankle_z</th>\n",
       "      <th>left_ankle_v</th>\n",
       "      <th>right_ankle_x</th>\n",
       "      <th>right_ankle_y</th>\n",
       "      <th>right_ankle_z</th>\n",
       "      <th>right_ankle_v</th>\n",
       "    </tr>\n",
       "  </thead>\n",
       "  <tbody>\n",
       "    <tr>\n",
       "      <th>0</th>\n",
       "      <td>up</td>\n",
       "      <td>0.534843</td>\n",
       "      <td>0.147982</td>\n",
       "      <td>-0.268309</td>\n",
       "      <td>0.999982</td>\n",
       "      <td>0.579393</td>\n",
       "      <td>0.231487</td>\n",
       "      <td>-0.096035</td>\n",
       "      <td>0.999980</td>\n",
       "      <td>0.492536</td>\n",
       "      <td>...</td>\n",
       "      <td>-0.072671</td>\n",
       "      <td>0.985612</td>\n",
       "      <td>0.578099</td>\n",
       "      <td>0.759075</td>\n",
       "      <td>0.027200</td>\n",
       "      <td>0.972405</td>\n",
       "      <td>0.490069</td>\n",
       "      <td>0.744006</td>\n",
       "      <td>0.044383</td>\n",
       "      <td>0.978160</td>\n",
       "    </tr>\n",
       "    <tr>\n",
       "      <th>1</th>\n",
       "      <td>up</td>\n",
       "      <td>0.534616</td>\n",
       "      <td>0.146347</td>\n",
       "      <td>-0.199155</td>\n",
       "      <td>0.999993</td>\n",
       "      <td>0.574378</td>\n",
       "      <td>0.239949</td>\n",
       "      <td>-0.032144</td>\n",
       "      <td>0.999986</td>\n",
       "      <td>0.490907</td>\n",
       "      <td>...</td>\n",
       "      <td>-0.017558</td>\n",
       "      <td>0.990454</td>\n",
       "      <td>0.582109</td>\n",
       "      <td>0.757138</td>\n",
       "      <td>0.098183</td>\n",
       "      <td>0.980775</td>\n",
       "      <td>0.481687</td>\n",
       "      <td>0.766540</td>\n",
       "      <td>0.092971</td>\n",
       "      <td>0.987461</td>\n",
       "    </tr>\n",
       "    <tr>\n",
       "      <th>2</th>\n",
       "      <td>up</td>\n",
       "      <td>0.534515</td>\n",
       "      <td>0.146301</td>\n",
       "      <td>-0.191119</td>\n",
       "      <td>0.999994</td>\n",
       "      <td>0.574328</td>\n",
       "      <td>0.239890</td>\n",
       "      <td>-0.029094</td>\n",
       "      <td>0.999986</td>\n",
       "      <td>0.490821</td>\n",
       "      <td>...</td>\n",
       "      <td>-0.019129</td>\n",
       "      <td>0.990599</td>\n",
       "      <td>0.582669</td>\n",
       "      <td>0.757638</td>\n",
       "      <td>0.093466</td>\n",
       "      <td>0.980843</td>\n",
       "      <td>0.481825</td>\n",
       "      <td>0.768170</td>\n",
       "      <td>0.090635</td>\n",
       "      <td>0.987959</td>\n",
       "    </tr>\n",
       "    <tr>\n",
       "      <th>3</th>\n",
       "      <td>up</td>\n",
       "      <td>0.534432</td>\n",
       "      <td>0.146312</td>\n",
       "      <td>-0.182685</td>\n",
       "      <td>0.999995</td>\n",
       "      <td>0.574492</td>\n",
       "      <td>0.239809</td>\n",
       "      <td>-0.027983</td>\n",
       "      <td>0.999987</td>\n",
       "      <td>0.490665</td>\n",
       "      <td>...</td>\n",
       "      <td>-0.014492</td>\n",
       "      <td>0.990645</td>\n",
       "      <td>0.582858</td>\n",
       "      <td>0.757781</td>\n",
       "      <td>0.080272</td>\n",
       "      <td>0.981120</td>\n",
       "      <td>0.481921</td>\n",
       "      <td>0.767088</td>\n",
       "      <td>0.097178</td>\n",
       "      <td>0.988489</td>\n",
       "    </tr>\n",
       "    <tr>\n",
       "      <th>4</th>\n",
       "      <td>up</td>\n",
       "      <td>0.534422</td>\n",
       "      <td>0.146302</td>\n",
       "      <td>-0.170359</td>\n",
       "      <td>0.999996</td>\n",
       "      <td>0.574919</td>\n",
       "      <td>0.239827</td>\n",
       "      <td>-0.025521</td>\n",
       "      <td>0.999988</td>\n",
       "      <td>0.490680</td>\n",
       "      <td>...</td>\n",
       "      <td>-0.007411</td>\n",
       "      <td>0.990738</td>\n",
       "      <td>0.582845</td>\n",
       "      <td>0.757678</td>\n",
       "      <td>0.073182</td>\n",
       "      <td>0.981676</td>\n",
       "      <td>0.481950</td>\n",
       "      <td>0.761946</td>\n",
       "      <td>0.107647</td>\n",
       "      <td>0.988776</td>\n",
       "    </tr>\n",
       "    <tr>\n",
       "      <th>...</th>\n",
       "      <td>...</td>\n",
       "      <td>...</td>\n",
       "      <td>...</td>\n",
       "      <td>...</td>\n",
       "      <td>...</td>\n",
       "      <td>...</td>\n",
       "      <td>...</td>\n",
       "      <td>...</td>\n",
       "      <td>...</td>\n",
       "      <td>...</td>\n",
       "      <td>...</td>\n",
       "      <td>...</td>\n",
       "      <td>...</td>\n",
       "      <td>...</td>\n",
       "      <td>...</td>\n",
       "      <td>...</td>\n",
       "      <td>...</td>\n",
       "      <td>...</td>\n",
       "      <td>...</td>\n",
       "      <td>...</td>\n",
       "      <td>...</td>\n",
       "    </tr>\n",
       "    <tr>\n",
       "      <th>5008</th>\n",
       "      <td>up</td>\n",
       "      <td>0.407681</td>\n",
       "      <td>0.090363</td>\n",
       "      <td>-0.287707</td>\n",
       "      <td>0.999993</td>\n",
       "      <td>0.457613</td>\n",
       "      <td>0.180879</td>\n",
       "      <td>-0.118367</td>\n",
       "      <td>0.999982</td>\n",
       "      <td>0.368265</td>\n",
       "      <td>...</td>\n",
       "      <td>0.015476</td>\n",
       "      <td>0.990355</td>\n",
       "      <td>0.465322</td>\n",
       "      <td>0.739908</td>\n",
       "      <td>-0.043127</td>\n",
       "      <td>0.987645</td>\n",
       "      <td>0.403436</td>\n",
       "      <td>0.751272</td>\n",
       "      <td>0.135333</td>\n",
       "      <td>0.992430</td>\n",
       "    </tr>\n",
       "    <tr>\n",
       "      <th>5009</th>\n",
       "      <td>up</td>\n",
       "      <td>0.403316</td>\n",
       "      <td>0.086621</td>\n",
       "      <td>-0.279820</td>\n",
       "      <td>0.999994</td>\n",
       "      <td>0.453319</td>\n",
       "      <td>0.178047</td>\n",
       "      <td>-0.111507</td>\n",
       "      <td>0.999983</td>\n",
       "      <td>0.361666</td>\n",
       "      <td>...</td>\n",
       "      <td>-0.037429</td>\n",
       "      <td>0.987010</td>\n",
       "      <td>0.445196</td>\n",
       "      <td>0.740407</td>\n",
       "      <td>-0.025684</td>\n",
       "      <td>0.986913</td>\n",
       "      <td>0.403065</td>\n",
       "      <td>0.751742</td>\n",
       "      <td>0.043211</td>\n",
       "      <td>0.990292</td>\n",
       "    </tr>\n",
       "    <tr>\n",
       "      <th>5010</th>\n",
       "      <td>up</td>\n",
       "      <td>0.399570</td>\n",
       "      <td>0.081523</td>\n",
       "      <td>-0.348003</td>\n",
       "      <td>0.999994</td>\n",
       "      <td>0.450707</td>\n",
       "      <td>0.175864</td>\n",
       "      <td>-0.152738</td>\n",
       "      <td>0.999983</td>\n",
       "      <td>0.358344</td>\n",
       "      <td>...</td>\n",
       "      <td>-0.050147</td>\n",
       "      <td>0.960627</td>\n",
       "      <td>0.433110</td>\n",
       "      <td>0.738969</td>\n",
       "      <td>-0.073337</td>\n",
       "      <td>0.980069</td>\n",
       "      <td>0.404907</td>\n",
       "      <td>0.752917</td>\n",
       "      <td>0.034485</td>\n",
       "      <td>0.974134</td>\n",
       "    </tr>\n",
       "    <tr>\n",
       "      <th>5011</th>\n",
       "      <td>up</td>\n",
       "      <td>0.396185</td>\n",
       "      <td>0.075364</td>\n",
       "      <td>-0.335939</td>\n",
       "      <td>0.999993</td>\n",
       "      <td>0.449960</td>\n",
       "      <td>0.171554</td>\n",
       "      <td>-0.155685</td>\n",
       "      <td>0.999981</td>\n",
       "      <td>0.355112</td>\n",
       "      <td>...</td>\n",
       "      <td>-0.042933</td>\n",
       "      <td>0.866298</td>\n",
       "      <td>0.411662</td>\n",
       "      <td>0.742109</td>\n",
       "      <td>-0.206554</td>\n",
       "      <td>0.954389</td>\n",
       "      <td>0.406328</td>\n",
       "      <td>0.752424</td>\n",
       "      <td>0.020928</td>\n",
       "      <td>0.914790</td>\n",
       "    </tr>\n",
       "    <tr>\n",
       "      <th>5012</th>\n",
       "      <td>up</td>\n",
       "      <td>0.394879</td>\n",
       "      <td>0.062543</td>\n",
       "      <td>-0.328748</td>\n",
       "      <td>0.999992</td>\n",
       "      <td>0.448787</td>\n",
       "      <td>0.165415</td>\n",
       "      <td>-0.148869</td>\n",
       "      <td>0.999979</td>\n",
       "      <td>0.350392</td>\n",
       "      <td>...</td>\n",
       "      <td>-0.030713</td>\n",
       "      <td>0.761500</td>\n",
       "      <td>0.406711</td>\n",
       "      <td>0.737579</td>\n",
       "      <td>-0.198017</td>\n",
       "      <td>0.914796</td>\n",
       "      <td>0.404178</td>\n",
       "      <td>0.738680</td>\n",
       "      <td>0.040376</td>\n",
       "      <td>0.831108</td>\n",
       "    </tr>\n",
       "  </tbody>\n",
       "</table>\n",
       "<p>5013 rows × 37 columns</p>\n",
       "</div>"
      ]
     },
     "execution_count": 14,
     "metadata": {},
     "output_type": "execute_result"
    }
   ],
   "execution_count": 14
  },
  {
   "metadata": {
    "ExecuteTime": {
     "end_time": "2024-09-16T22:22:14.306513Z",
     "start_time": "2024-09-16T22:22:14.270060Z"
    }
   },
   "cell_type": "code",
   "source": [
    "df = df.dropna()\n",
    "df = df.drop_duplicates()\n",
    "\n",
    "# usamos labelencoder para transformar la columna label en 0 y 1\n",
    "from sklearn.preprocessing import LabelEncoder\n",
    "le = LabelEncoder()\n",
    "df[\"label\"] = le.fit_transform(df[\"label\"])"
   ],
   "id": "431d3a2d3028ee80",
   "outputs": [],
   "execution_count": 15
  },
  {
   "metadata": {},
   "cell_type": "markdown",
   "source": "#### 2.1 EDA",
   "id": "2feffae11c0df6aa"
  },
  {
   "metadata": {
    "ExecuteTime": {
     "end_time": "2024-09-16T22:22:14.893870Z",
     "start_time": "2024-09-16T22:22:14.862989Z"
    }
   },
   "cell_type": "code",
   "source": "df.info()",
   "id": "148f66b8ccd9dc63",
   "outputs": [
    {
     "name": "stdout",
     "output_type": "stream",
     "text": [
      "<class 'pandas.core.frame.DataFrame'>\n",
      "RangeIndex: 5013 entries, 0 to 5012\n",
      "Data columns (total 37 columns):\n",
      " #   Column            Non-Null Count  Dtype  \n",
      "---  ------            --------------  -----  \n",
      " 0   label             5013 non-null   int64  \n",
      " 1   nose_x            5013 non-null   float64\n",
      " 2   nose_y            5013 non-null   float64\n",
      " 3   nose_z            5013 non-null   float64\n",
      " 4   nose_v            5013 non-null   float64\n",
      " 5   left_shoulder_x   5013 non-null   float64\n",
      " 6   left_shoulder_y   5013 non-null   float64\n",
      " 7   left_shoulder_z   5013 non-null   float64\n",
      " 8   left_shoulder_v   5013 non-null   float64\n",
      " 9   right_shoulder_x  5013 non-null   float64\n",
      " 10  right_shoulder_y  5013 non-null   float64\n",
      " 11  right_shoulder_z  5013 non-null   float64\n",
      " 12  right_shoulder_v  5013 non-null   float64\n",
      " 13  left_hip_x        5013 non-null   float64\n",
      " 14  left_hip_y        5013 non-null   float64\n",
      " 15  left_hip_z        5013 non-null   float64\n",
      " 16  left_hip_v        5013 non-null   float64\n",
      " 17  right_hip_x       5013 non-null   float64\n",
      " 18  right_hip_y       5013 non-null   float64\n",
      " 19  right_hip_z       5013 non-null   float64\n",
      " 20  right_hip_v       5013 non-null   float64\n",
      " 21  left_knee_x       5013 non-null   float64\n",
      " 22  left_knee_y       5013 non-null   float64\n",
      " 23  left_knee_z       5013 non-null   float64\n",
      " 24  left_knee_v       5013 non-null   float64\n",
      " 25  right_knee_x      5013 non-null   float64\n",
      " 26  right_knee_y      5013 non-null   float64\n",
      " 27  right_knee_z      5013 non-null   float64\n",
      " 28  right_knee_v      5013 non-null   float64\n",
      " 29  left_ankle_x      5013 non-null   float64\n",
      " 30  left_ankle_y      5013 non-null   float64\n",
      " 31  left_ankle_z      5013 non-null   float64\n",
      " 32  left_ankle_v      5013 non-null   float64\n",
      " 33  right_ankle_x     5013 non-null   float64\n",
      " 34  right_ankle_y     5013 non-null   float64\n",
      " 35  right_ankle_z     5013 non-null   float64\n",
      " 36  right_ankle_v     5013 non-null   float64\n",
      "dtypes: float64(36), int64(1)\n",
      "memory usage: 1.4 MB\n"
     ]
    }
   ],
   "execution_count": 16
  },
  {
   "metadata": {
    "ExecuteTime": {
     "end_time": "2024-09-16T22:22:15.034899Z",
     "start_time": "2024-09-16T22:22:14.961066Z"
    }
   },
   "cell_type": "code",
   "source": "df.describe()",
   "id": "f0626127a43340b0",
   "outputs": [
    {
     "data": {
      "text/plain": [
       "             label       nose_x       nose_y       nose_z       nose_v  \\\n",
       "count  5013.000000  5013.000000  5013.000000  5013.000000  5013.000000   \n",
       "mean      0.489926     0.500705     0.244676    -0.226224     0.999731   \n",
       "std       0.499948     0.037473     0.120759     0.082177     0.000410   \n",
       "min       0.000000     0.394879     0.011750    -0.536679     0.997248   \n",
       "25%       0.000000     0.465481     0.130633    -0.275794     0.999592   \n",
       "50%       0.000000     0.491340     0.275184    -0.230985     0.999931   \n",
       "75%       1.000000     0.534069     0.351612    -0.158853     0.999990   \n",
       "max       1.000000     0.603295     0.583004     0.019270     0.999999   \n",
       "\n",
       "       left_shoulder_x  left_shoulder_y  left_shoulder_z  left_shoulder_v  \\\n",
       "count      5013.000000      5013.000000      5013.000000      5013.000000   \n",
       "mean          0.546507         0.325837        -0.067145         0.998069   \n",
       "std           0.037491         0.111579         0.063412         0.003421   \n",
       "min           0.448787         0.104354        -0.299121         0.971853   \n",
       "25%           0.510342         0.219292        -0.107181         0.997570   \n",
       "50%           0.543916         0.360863        -0.069464         0.999566   \n",
       "75%           0.580375         0.425750        -0.019566         0.999979   \n",
       "max           0.658921         0.575880         0.174089         0.999996   \n",
       "\n",
       "       right_shoulder_x  ...  right_knee_z  right_knee_v  left_ankle_x  \\\n",
       "count       5013.000000  ...   5013.000000   5013.000000   5013.000000   \n",
       "mean           0.456267  ...     -0.160321      0.971670      0.544428   \n",
       "std            0.038141  ...      0.157213      0.023282      0.042806   \n",
       "min            0.350392  ...     -0.433551      0.761500      0.406711   \n",
       "25%            0.422330  ...     -0.311500      0.960251      0.511029   \n",
       "50%            0.446648  ...     -0.248616      0.977118      0.541349   \n",
       "75%            0.491631  ...     -0.001444      0.990614      0.581033   \n",
       "max            0.581792  ...      0.113256      0.997981      0.661186   \n",
       "\n",
       "       left_ankle_y  left_ankle_z  left_ankle_v  right_ankle_x  right_ankle_y  \\\n",
       "count   5013.000000   5013.000000   5013.000000    5013.000000    5013.000000   \n",
       "mean       0.758165     -0.018364      0.942125       0.458677       0.759136   \n",
       "std        0.018352      0.124261      0.045003       0.039551       0.016457   \n",
       "min        0.721434     -0.364406      0.661546       0.393018       0.725618   \n",
       "25%        0.751337     -0.142655      0.907801       0.421583       0.751547   \n",
       "50%        0.757212     -0.035929      0.952603       0.454122       0.759043   \n",
       "75%        0.761518      0.097479      0.982620       0.489164       0.762680   \n",
       "max        0.861504      0.250503      0.997702       0.579819       0.854531   \n",
       "\n",
       "       right_ankle_z  right_ankle_v  \n",
       "count    5013.000000    5013.000000  \n",
       "mean        0.000647       0.959641  \n",
       "std         0.133082       0.041347  \n",
       "min        -0.443836       0.787491  \n",
       "25%        -0.133250       0.947618  \n",
       "50%        -0.030731       0.971386  \n",
       "75%         0.124237       0.990142  \n",
       "max         0.318563       0.998623  \n",
       "\n",
       "[8 rows x 37 columns]"
      ],
      "text/html": [
       "<div>\n",
       "<style scoped>\n",
       "    .dataframe tbody tr th:only-of-type {\n",
       "        vertical-align: middle;\n",
       "    }\n",
       "\n",
       "    .dataframe tbody tr th {\n",
       "        vertical-align: top;\n",
       "    }\n",
       "\n",
       "    .dataframe thead th {\n",
       "        text-align: right;\n",
       "    }\n",
       "</style>\n",
       "<table border=\"1\" class=\"dataframe\">\n",
       "  <thead>\n",
       "    <tr style=\"text-align: right;\">\n",
       "      <th></th>\n",
       "      <th>label</th>\n",
       "      <th>nose_x</th>\n",
       "      <th>nose_y</th>\n",
       "      <th>nose_z</th>\n",
       "      <th>nose_v</th>\n",
       "      <th>left_shoulder_x</th>\n",
       "      <th>left_shoulder_y</th>\n",
       "      <th>left_shoulder_z</th>\n",
       "      <th>left_shoulder_v</th>\n",
       "      <th>right_shoulder_x</th>\n",
       "      <th>...</th>\n",
       "      <th>right_knee_z</th>\n",
       "      <th>right_knee_v</th>\n",
       "      <th>left_ankle_x</th>\n",
       "      <th>left_ankle_y</th>\n",
       "      <th>left_ankle_z</th>\n",
       "      <th>left_ankle_v</th>\n",
       "      <th>right_ankle_x</th>\n",
       "      <th>right_ankle_y</th>\n",
       "      <th>right_ankle_z</th>\n",
       "      <th>right_ankle_v</th>\n",
       "    </tr>\n",
       "  </thead>\n",
       "  <tbody>\n",
       "    <tr>\n",
       "      <th>count</th>\n",
       "      <td>5013.000000</td>\n",
       "      <td>5013.000000</td>\n",
       "      <td>5013.000000</td>\n",
       "      <td>5013.000000</td>\n",
       "      <td>5013.000000</td>\n",
       "      <td>5013.000000</td>\n",
       "      <td>5013.000000</td>\n",
       "      <td>5013.000000</td>\n",
       "      <td>5013.000000</td>\n",
       "      <td>5013.000000</td>\n",
       "      <td>...</td>\n",
       "      <td>5013.000000</td>\n",
       "      <td>5013.000000</td>\n",
       "      <td>5013.000000</td>\n",
       "      <td>5013.000000</td>\n",
       "      <td>5013.000000</td>\n",
       "      <td>5013.000000</td>\n",
       "      <td>5013.000000</td>\n",
       "      <td>5013.000000</td>\n",
       "      <td>5013.000000</td>\n",
       "      <td>5013.000000</td>\n",
       "    </tr>\n",
       "    <tr>\n",
       "      <th>mean</th>\n",
       "      <td>0.489926</td>\n",
       "      <td>0.500705</td>\n",
       "      <td>0.244676</td>\n",
       "      <td>-0.226224</td>\n",
       "      <td>0.999731</td>\n",
       "      <td>0.546507</td>\n",
       "      <td>0.325837</td>\n",
       "      <td>-0.067145</td>\n",
       "      <td>0.998069</td>\n",
       "      <td>0.456267</td>\n",
       "      <td>...</td>\n",
       "      <td>-0.160321</td>\n",
       "      <td>0.971670</td>\n",
       "      <td>0.544428</td>\n",
       "      <td>0.758165</td>\n",
       "      <td>-0.018364</td>\n",
       "      <td>0.942125</td>\n",
       "      <td>0.458677</td>\n",
       "      <td>0.759136</td>\n",
       "      <td>0.000647</td>\n",
       "      <td>0.959641</td>\n",
       "    </tr>\n",
       "    <tr>\n",
       "      <th>std</th>\n",
       "      <td>0.499948</td>\n",
       "      <td>0.037473</td>\n",
       "      <td>0.120759</td>\n",
       "      <td>0.082177</td>\n",
       "      <td>0.000410</td>\n",
       "      <td>0.037491</td>\n",
       "      <td>0.111579</td>\n",
       "      <td>0.063412</td>\n",
       "      <td>0.003421</td>\n",
       "      <td>0.038141</td>\n",
       "      <td>...</td>\n",
       "      <td>0.157213</td>\n",
       "      <td>0.023282</td>\n",
       "      <td>0.042806</td>\n",
       "      <td>0.018352</td>\n",
       "      <td>0.124261</td>\n",
       "      <td>0.045003</td>\n",
       "      <td>0.039551</td>\n",
       "      <td>0.016457</td>\n",
       "      <td>0.133082</td>\n",
       "      <td>0.041347</td>\n",
       "    </tr>\n",
       "    <tr>\n",
       "      <th>min</th>\n",
       "      <td>0.000000</td>\n",
       "      <td>0.394879</td>\n",
       "      <td>0.011750</td>\n",
       "      <td>-0.536679</td>\n",
       "      <td>0.997248</td>\n",
       "      <td>0.448787</td>\n",
       "      <td>0.104354</td>\n",
       "      <td>-0.299121</td>\n",
       "      <td>0.971853</td>\n",
       "      <td>0.350392</td>\n",
       "      <td>...</td>\n",
       "      <td>-0.433551</td>\n",
       "      <td>0.761500</td>\n",
       "      <td>0.406711</td>\n",
       "      <td>0.721434</td>\n",
       "      <td>-0.364406</td>\n",
       "      <td>0.661546</td>\n",
       "      <td>0.393018</td>\n",
       "      <td>0.725618</td>\n",
       "      <td>-0.443836</td>\n",
       "      <td>0.787491</td>\n",
       "    </tr>\n",
       "    <tr>\n",
       "      <th>25%</th>\n",
       "      <td>0.000000</td>\n",
       "      <td>0.465481</td>\n",
       "      <td>0.130633</td>\n",
       "      <td>-0.275794</td>\n",
       "      <td>0.999592</td>\n",
       "      <td>0.510342</td>\n",
       "      <td>0.219292</td>\n",
       "      <td>-0.107181</td>\n",
       "      <td>0.997570</td>\n",
       "      <td>0.422330</td>\n",
       "      <td>...</td>\n",
       "      <td>-0.311500</td>\n",
       "      <td>0.960251</td>\n",
       "      <td>0.511029</td>\n",
       "      <td>0.751337</td>\n",
       "      <td>-0.142655</td>\n",
       "      <td>0.907801</td>\n",
       "      <td>0.421583</td>\n",
       "      <td>0.751547</td>\n",
       "      <td>-0.133250</td>\n",
       "      <td>0.947618</td>\n",
       "    </tr>\n",
       "    <tr>\n",
       "      <th>50%</th>\n",
       "      <td>0.000000</td>\n",
       "      <td>0.491340</td>\n",
       "      <td>0.275184</td>\n",
       "      <td>-0.230985</td>\n",
       "      <td>0.999931</td>\n",
       "      <td>0.543916</td>\n",
       "      <td>0.360863</td>\n",
       "      <td>-0.069464</td>\n",
       "      <td>0.999566</td>\n",
       "      <td>0.446648</td>\n",
       "      <td>...</td>\n",
       "      <td>-0.248616</td>\n",
       "      <td>0.977118</td>\n",
       "      <td>0.541349</td>\n",
       "      <td>0.757212</td>\n",
       "      <td>-0.035929</td>\n",
       "      <td>0.952603</td>\n",
       "      <td>0.454122</td>\n",
       "      <td>0.759043</td>\n",
       "      <td>-0.030731</td>\n",
       "      <td>0.971386</td>\n",
       "    </tr>\n",
       "    <tr>\n",
       "      <th>75%</th>\n",
       "      <td>1.000000</td>\n",
       "      <td>0.534069</td>\n",
       "      <td>0.351612</td>\n",
       "      <td>-0.158853</td>\n",
       "      <td>0.999990</td>\n",
       "      <td>0.580375</td>\n",
       "      <td>0.425750</td>\n",
       "      <td>-0.019566</td>\n",
       "      <td>0.999979</td>\n",
       "      <td>0.491631</td>\n",
       "      <td>...</td>\n",
       "      <td>-0.001444</td>\n",
       "      <td>0.990614</td>\n",
       "      <td>0.581033</td>\n",
       "      <td>0.761518</td>\n",
       "      <td>0.097479</td>\n",
       "      <td>0.982620</td>\n",
       "      <td>0.489164</td>\n",
       "      <td>0.762680</td>\n",
       "      <td>0.124237</td>\n",
       "      <td>0.990142</td>\n",
       "    </tr>\n",
       "    <tr>\n",
       "      <th>max</th>\n",
       "      <td>1.000000</td>\n",
       "      <td>0.603295</td>\n",
       "      <td>0.583004</td>\n",
       "      <td>0.019270</td>\n",
       "      <td>0.999999</td>\n",
       "      <td>0.658921</td>\n",
       "      <td>0.575880</td>\n",
       "      <td>0.174089</td>\n",
       "      <td>0.999996</td>\n",
       "      <td>0.581792</td>\n",
       "      <td>...</td>\n",
       "      <td>0.113256</td>\n",
       "      <td>0.997981</td>\n",
       "      <td>0.661186</td>\n",
       "      <td>0.861504</td>\n",
       "      <td>0.250503</td>\n",
       "      <td>0.997702</td>\n",
       "      <td>0.579819</td>\n",
       "      <td>0.854531</td>\n",
       "      <td>0.318563</td>\n",
       "      <td>0.998623</td>\n",
       "    </tr>\n",
       "  </tbody>\n",
       "</table>\n",
       "<p>8 rows × 37 columns</p>\n",
       "</div>"
      ]
     },
     "execution_count": 17,
     "metadata": {},
     "output_type": "execute_result"
    }
   ],
   "execution_count": 17
  },
  {
   "metadata": {
    "ExecuteTime": {
     "end_time": "2024-09-16T22:22:15.693948Z",
     "start_time": "2024-09-16T22:22:15.096591Z"
    }
   },
   "cell_type": "code",
   "source": [
    "# plot correlation matrix\n",
    "plt.figure(figsize=(10, 10))\n",
    "sns.heatmap(df.corr())\n",
    "plt.show()\n"
   ],
   "id": "7690e78f41022b10",
   "outputs": [
    {
     "data": {
      "text/plain": [
       "<Figure size 1000x1000 with 2 Axes>"
      ],
      "image/png": "[encoded data removed]"
     },
     "metadata": {},
     "output_type": "display_data"
    }
   ],
   "execution_count": 18
  },
  {
   "metadata": {
    "ExecuteTime": {
     "end_time": "2024-09-16T22:22:15.750940Z",
     "start_time": "2024-09-16T22:22:15.743096Z"
    }
   },
   "cell_type": "code",
   "source": "df[\"label\"].value_counts()",
   "id": "d788b9aa623fcaa8",
   "outputs": [
    {
     "data": {
      "text/plain": [
       "label\n",
       "0    2557\n",
       "1    2456\n",
       "Name: count, dtype: int64"
      ]
     },
     "execution_count": 19,
     "metadata": {},
     "output_type": "execute_result"
    }
   ],
   "execution_count": 19
  },
  {
   "metadata": {
    "ExecuteTime": {
     "end_time": "2024-09-16T22:22:15.889990Z",
     "start_time": "2024-09-16T22:22:15.791196Z"
    }
   },
   "cell_type": "code",
   "source": "df[\"label\"].value_counts().plot(kind='bar')",
   "id": "3037a9bd35d4e4c0",
   "outputs": [
    {
     "data": {
      "text/plain": [
       "<Axes: xlabel='label'>"
      ]
     },
     "execution_count": 20,
     "metadata": {},
     "output_type": "execute_result"
    },
    {
     "data": {
      "text/plain": [
       "<Figure size 640x480 with 1 Axes>"
      ],
      "image/png": "[encoded data removed]"
     },
     "metadata": {},
     "output_type": "display_data"
    }
   ],
   "execution_count": 20
  },
  {
   "metadata": {
    "ExecuteTime": {
     "end_time": "2024-09-16T22:22:16.287475Z",
     "start_time": "2024-09-16T22:22:16.285238Z"
    }
   },
   "cell_type": "code",
   "source": [
    "# plot scatter matrix\n",
    "## sns.pairplot(df, hue='label')"
   ],
   "id": "fa7063f40ef79bc3",
   "outputs": [],
   "execution_count": 21
  },
  {
   "metadata": {},
   "cell_type": "markdown",
   "source": "### 3.0 Data Preprocessing",
   "id": "5f0470037b4ba4f0"
  },
  {
   "metadata": {
    "ExecuteTime": {
     "end_time": "2024-09-16T22:24:02.935947Z",
     "start_time": "2024-09-16T22:24:02.899583Z"
    }
   },
   "cell_type": "code",
   "source": [
    "X = df.drop(columns=['label'])\n",
    "y = df['label']\n",
    "\n",
    "X_train, X_test, y_train, y_test = train_test_split(X, y, test_size=0.9, random_state=42)\n",
    "\n",
    "scaler = StandardScaler()\n",
    "X_train = scaler.fit_transform(X_train)\n",
    "X_test = scaler.transform(X_test)\n"
   ],
   "id": "40c51562d26424fb",
   "outputs": [],
   "execution_count": 29
  },
  {
   "metadata": {},
   "cell_type": "markdown",
   "source": "## 4.0 Model Comparison",
   "id": "f1709f59adf83aef"
  },
  {
   "metadata": {},
   "cell_type": "markdown",
   "source": "### 4.1 Logistic Regression",
   "id": "37b7fa033e40b724"
  },
  {
   "metadata": {
    "ExecuteTime": {
     "end_time": "2024-09-16T22:24:05.302049Z",
     "start_time": "2024-09-16T22:24:05.126039Z"
    }
   },
   "cell_type": "code",
   "source": [
    "model = LogisticRegression()\n",
    "model.fit(X_train, y_train)\n",
    "y_pred = model.predict(X_test)\n",
    "\n",
    "print('Accuracy:', accuracy_score(y_test, y_pred))\n",
    "\n",
    "## Plot confusion matrix\n",
    "cm = confusion_matrix(y_test, y_pred)\n",
    "\n",
    "plt.figure(figsize=(10, 7))\n",
    "sns.heatmap(cm, annot=True, fmt='d')\n",
    "plt.xlabel('Predicted')\n",
    "plt.ylabel('Truth')\n",
    "plt.show()\n"
   ],
   "id": "b9dffc0b8bd0d338",
   "outputs": [
    {
     "name": "stdout",
     "output_type": "stream",
     "text": [
      "Accuracy: 0.99822695035461\n"
     ]
    },
    {
     "data": {
      "text/plain": [
       "<Figure size 1000x700 with 2 Axes>"
      ],
      "image/png": "[encoded data removed]"
     },
     "metadata": {},
     "output_type": "display_data"
    }
   ],
   "execution_count": 30
  },
  {
   "metadata": {
    "ExecuteTime": {
     "end_time": "2024-09-16T22:24:05.419390Z",
     "start_time": "2024-09-16T22:24:05.395642Z"
    }
   },
   "cell_type": "code",
   "source": [
    "# print classification report\n",
    "print(classification_report(y_test, y_pred))"
   ],
   "id": "8066333b21d26c53",
   "outputs": [
    {
     "name": "stdout",
     "output_type": "stream",
     "text": [
      "              precision    recall  f1-score   support\n",
      "\n",
      "           0       1.00      1.00      1.00      2289\n",
      "           1       1.00      1.00      1.00      2223\n",
      "\n",
      "    accuracy                           1.00      4512\n",
      "   macro avg       1.00      1.00      1.00      4512\n",
      "weighted avg       1.00      1.00      1.00      4512\n",
      "\n"
     ]
    }
   ],
   "execution_count": 31
  },
  {
   "metadata": {},
   "cell_type": "markdown",
   "source": "### 4.2 Random Forest",
   "id": "4abfc2a6fa4bbe33"
  },
  {
   "metadata": {
    "ExecuteTime": {
     "end_time": "2024-09-16T22:24:49.436397Z",
     "start_time": "2024-09-16T22:24:49.232822Z"
    }
   },
   "cell_type": "code",
   "source": [
    "model = RandomForestClassifier()\n",
    "model.fit(X_train, y_train)\n",
    "y_pred = model.predict(X_test)\n",
    "\n",
    "print('Accuracy:', accuracy_score(y_test, y_pred))\n",
    "\n",
    "## Plot confusion matrix\n",
    "cm = confusion_matrix(y_test, y_pred)\n",
    "\n",
    "plt.figure(figsize=(10, 7))\n",
    "sns.heatmap(cm, annot=True, fmt='d')\n",
    "plt.xlabel('Predicted')\n",
    "plt.ylabel('Truth')\n",
    "plt.show()"
   ],
   "id": "be3ce5b1810c01d1",
   "outputs": [
    {
     "name": "stdout",
     "output_type": "stream",
     "text": [
      "Accuracy: 0.9971187943262412\n"
     ]
    },
    {
     "data": {
      "text/plain": [
       "<Figure size 1000x700 with 2 Axes>"
      ],
      "image/png": "[encoded data removed]"
     },
     "metadata": {},
     "output_type": "display_data"
    }
   ],
   "execution_count": 33
  },
  {
   "metadata": {},
   "cell_type": "markdown",
   "source": "### 4.3 Support Vector Machine",
   "id": "35295c553ded63d0"
  },
  {
   "metadata": {
    "ExecuteTime": {
     "end_time": "2024-09-16T22:25:28.082716Z",
     "start_time": "2024-09-16T22:25:27.905565Z"
    }
   },
   "cell_type": "code",
   "source": [
    "model = SVC()\n",
    "model.fit(X_train, y_train)\n",
    "y_pred = model.predict(X_test)\n",
    "\n",
    "print('Accuracy:', accuracy_score(y_test, y_pred))\n",
    "\n",
    "## Plot confusion matrix\n",
    "cm = confusion_matrix(y_test, y_pred)\n",
    "\n",
    "plt.figure(figsize=(10, 7))\n",
    "sns.heatmap(cm, annot=True, fmt='d')\n",
    "plt.xlabel('Predicted')\n",
    "plt.ylabel('Truth')\n",
    "plt.show()"
   ],
   "id": "ede22820351e8ec",
   "outputs": [
    {
     "name": "stdout",
     "output_type": "stream",
     "text": [
      "Accuracy: 0.99822695035461\n"
     ]
    },
    {
     "data": {
      "text/plain": [
       "<Figure size 1000x700 with 2 Axes>"
      ],
      "image/png": "[encoded data removed]"
     },
     "metadata": {},
     "output_type": "display_data"
    }
   ],
   "execution_count": 34
  },
  {
   "metadata": {},
   "cell_type": "markdown",
   "source": "### 4.4 Model Comparison",
   "id": "f71edc3d34761051"
  },
  {
   "metadata": {
    "ExecuteTime": {
     "end_time": "2024-09-16T22:25:53.975619Z",
     "start_time": "2024-09-16T22:25:51.162Z"
    }
   },
   "cell_type": "code",
   "source": [
    "models = [LogisticRegression(), RandomForestClassifier(), SVC()]\n",
    "model_names = ['Logistic Regression', 'Random Forest', 'SVM']\n",
    "\n",
    "for model, model_name in zip(models, model_names):\n",
    "    scores = cross_val_score(model, X, y, cv=5, scoring='accuracy')\n",
    "    print(f'{model_name} Accuracy: {scores.mean()}')"
   ],
   "id": "7fbcf94961b3ad18",
   "outputs": [
    {
     "name": "stdout",
     "output_type": "stream",
     "text": [
      "Logistic Regression Accuracy: 0.9946141615074936\n",
      "Random Forest Accuracy: 0.9978057842440741\n",
      "SVM Accuracy: 0.9950133631042999\n"
     ]
    }
   ],
   "execution_count": 35
  },
  {
   "metadata": {},
   "cell_type": "markdown",
   "source": "",
   "id": "7311fa3b8578772d"
  }
 ],
 "metadata": {
  "kernelspec": {
   "display_name": "Python 3",
   "language": "python",
   "name": "python3"
  },
  "language_info": {
   "codemirror_mode": {
    "name": "ipython",
    "version": 2
   },
   "file_extension": ".py",
   "mimetype": "text/x-python",
   "name": "python",
   "nbconvert_exporter": "python",
   "pygments_lexer": "ipython2",
   "version": "2.7.6"
  }
 },
 "nbformat": 4,
 "nbformat_minor": 5
}
