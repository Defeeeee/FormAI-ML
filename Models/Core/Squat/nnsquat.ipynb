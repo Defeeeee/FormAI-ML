{
 "cells": [
  {
   "metadata": {},
   "cell_type": "markdown",
   "source": [
    "1. Set up important landmarks and functions\n",
    "Generate Data Frame\n",
    "According to my research the correct form for a squat is analyzed through the position of:\n",
    "\n",
    "Back\n",
    "Hip\n",
    "Legs\n",
    "Therefore, there will be 9 keypoints which will be extract from mediapipe in order to train or detect a correct form of a squat:\n",
    "\n",
    "\"NOSE\",\n",
    "\"LEFT_SHOULDER\",\n",
    "\"RIGHT_SHOULDER\",\n",
    "\"LEFT_HIP\",\n",
    "\"RIGHT_HIP\",\n",
    "\"LEFT_KNEE\",\n",
    "\"RIGHT_KNEE\",\n",
    "\"LEFT_ANKLE\",\n",
    "\"RIGHT_ANKLE\"\n",
    "The data frame will be saved in a .csv file.\n",
    "\n",
    "A data frame will contains a \"Label\" columns which represent the label of a data point.\n",
    "\n",
    "There are another 9 x 4 columns represent 9 features of a human pose that are important for a squat. In that each landmark's info will be flatten\n",
    "\n",
    "According to the Mediapipe documentation, Each landmark consists of the following:\n",
    "\n",
    "x and y: Landmark coordinates normalized to [0.0, 1.0] by the image width and height respectively.\n",
    "z: Represents the landmark depth with the depth at the midpoint of hips being the origin, and the smaller the value the closer the landmark is to the camera. The magnitude of z uses roughly the same scale as x.\n",
    "visibility: A value in [0.0, 1.0] indicating the likelihood of the landmark being visible (present and not occluded) in the image."
   ],
   "id": "2ee51883a963379d"
  },
  {
   "metadata": {
    "ExecuteTime": {
     "end_time": "2024-10-16T11:50:08.736542Z",
     "start_time": "2024-10-16T11:50:08.718432Z"
    }
   },
   "cell_type": "code",
   "source": [
    "import pandas as pd\n",
    "import numpy as np\n",
    "import os\n",
    "import matplotlib.pyplot as plt\n",
    "import cv2\n",
    "import mediapipe as mp\n",
    "import time\n",
    "import torch\n",
    "import torch.nn as nn\n",
    "import torch.nn.functional as F\n",
    "from sklearn.model_selection import train_test_split\n",
    "from sklearn.metrics import accuracy_score"
   ],
   "id": "39050f46dcf04f2b",
   "outputs": [],
   "execution_count": 6
  },
  {
   "metadata": {
    "ExecuteTime": {
     "end_time": "2024-10-16T11:50:08.778687Z",
     "start_time": "2024-10-16T11:50:08.774858Z"
    }
   },
   "cell_type": "code",
   "source": [
    "# Define the landmarks\n",
    "imp_landmarks = [\"NOSE\", \"LEFT_SHOULDER\", \"RIGHT_SHOULDER\", \"LEFT_HIP\", \"RIGHT_HIP\", \"LEFT_KNEE\", \"RIGHT_KNEE\", \"LEFT_ANKLE\", \"RIGHT_ANKLE\"]"
   ],
   "id": "39785d0b8ff0010d",
   "outputs": [],
   "execution_count": 7
  },
  {
   "metadata": {
    "ExecuteTime": {
     "end_time": "2024-10-16T11:50:08.786730Z",
     "start_time": "2024-10-16T11:50:08.783773Z"
    }
   },
   "cell_type": "code",
   "source": [
    "landmarks = [\"label\"]\n",
    "\n",
    "for landmark in imp_landmarks:\n",
    "    landmarks += [f\"{landmark.lower()}_x\", f\"{landmark.lower()}_y\", f\"{landmark.lower()}_z\", f\"{landmark.lower()}_v\"]"
   ],
   "id": "566c8828ff440277",
   "outputs": [],
   "execution_count": 8
  },
  {
   "metadata": {},
   "cell_type": "markdown",
   "source": "# Model Training based on the data",
   "id": "24ec8e2ca5562588"
  }
 ],
 "metadata": {
  "kernelspec": {
   "display_name": "Python 3",
   "language": "python",
   "name": "python3"
  },
  "language_info": {
   "codemirror_mode": {
    "name": "ipython",
    "version": 2
   },
   "file_extension": ".py",
   "mimetype": "text/x-python",
   "name": "python",
   "nbconvert_exporter": "python",
   "pygments_lexer": "ipython2",
   "version": "2.7.6"
  }
 },
 "nbformat": 4,
 "nbformat_minor": 5
}
