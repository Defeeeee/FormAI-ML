{
 "cells": [
  {
   "metadata": {},
   "cell_type": "markdown",
   "source": "### 1.0 Importing Libraries",
   "id": "3bf7643f0097198"
  },
  {
   "cell_type": "code",
   "id": "initial_id",
   "metadata": {
    "collapsed": true
   },
   "source": [
    "import pandas as pd\n",
    "import matplotlib.pyplot as plt\n",
    "import seaborn as sns"
   ],
   "outputs": [],
   "execution_count": null
  },
  {
   "metadata": {},
   "cell_type": "markdown",
   "source": "### 1.1 Loading the datasets",
   "id": "a5aa4bed07e1c03d"
  },
  {
   "metadata": {},
   "cell_type": "code",
   "source": [
    "archivo_url = 'https://raw.githubusercontent.com/NgoQuocBao1010/Exercise-Correction/main/core/plank_model/train.csv'\n",
    "\n",
    "archivo = 'train.csv'\n",
    "\n",
    "ds = pd.read_csv(archivo)\n",
    "\n",
    "ds"
   ],
   "id": "145937aab9d53afb",
   "outputs": [],
   "execution_count": null
  },
  {
   "metadata": {},
   "cell_type": "code",
   "source": [
    "archivo_url1 = 'https://raw.githubusercontent.com/NgoQuocBao1010/Exercise-Correction/main/core/plank_model/test.csv'\n",
    "\n",
    "archivo = 'test.csv'\n",
    "\n",
    "ds_test = pd.read_csv(archivo)\n",
    "\n",
    "ds_test"
   ],
   "id": "40a8bb01f7d8ec49",
   "outputs": [],
   "execution_count": null
  },
  {
   "metadata": {},
   "cell_type": "markdown",
   "source": [
    "### 1.2 Dataset preprocessing\n",
    "Replacing high back and low back with 2 and 1 respectively and correct with 0"
   ],
   "id": "e74bfbc58f47fae3"
  },
  {
   "metadata": {},
   "cell_type": "code",
   "source": [
    "ds_test['label'] = ds_test['label'].replace('H', 2)\n",
    "ds_test['label'] = ds_test['label'].replace('L', 1)\n",
    "ds_test['label'] = ds_test['label'].replace('C', 0)"
   ],
   "id": "670117e5f8d8a65a",
   "outputs": [],
   "execution_count": null
  },
  {
   "metadata": {},
   "cell_type": "code",
   "source": [
    "ds['label'] = ds['label'].replace('H', 2)\n",
    "ds['label'] = ds['label'].replace('L', 1)\n",
    "ds['label'] = ds['label'].replace('C', 0)"
   ],
   "id": "edb5978d272c5c4f",
   "outputs": [],
   "execution_count": null
  },
  {
   "metadata": {},
   "cell_type": "markdown",
   "source": "### 1.3 Exploratory Data Analysis",
   "id": "2f91f0a28551770"
  },
  {
   "metadata": {},
   "cell_type": "code",
   "source": "ds.columns",
   "id": "3efb53e2f4374423",
   "outputs": [],
   "execution_count": null
  },
  {
   "metadata": {},
   "cell_type": "code",
   "source": [
    "# dataset correlation matrix\n",
    "cm = ds.corr()\n",
    "\n",
    "fig, ax = plt.subplots(figsize=(10, 8))\n",
    "\n",
    "sns.heatmap(cm, ax=ax)\n",
    "\n",
    "plt.show()"
   ],
   "id": "9789f9995a72bf1e",
   "outputs": [],
   "execution_count": null
  },
  {
   "metadata": {},
   "cell_type": "code",
   "source": "ds[\"label\"].value_counts()",
   "id": "32eb4f108ed2bc66",
   "outputs": [],
   "execution_count": null
  },
  {
   "metadata": {},
   "cell_type": "code",
   "source": [
    "# plot the distribution of the target variable\n",
    "sns.histplot(ds[\"label\"], kde=True)"
   ],
   "id": "ba573456641abe15",
   "outputs": [],
   "execution_count": null
  },
  {
   "metadata": {},
   "cell_type": "code",
   "source": "# sns.pairplot(ds, hue=\"label\")",
   "id": "f1b6cb16f5d69a69",
   "outputs": [],
   "execution_count": null
  },
  {
   "metadata": {},
   "cell_type": "code",
   "source": [
    "ds_true = ds[ds[\"label\"] == 1]\n",
    "ds_false = ds[ds[\"label\"] == 0]\n",
    "ds_two = ds[ds[\"label\"] == 2]\n",
    "\n",
    "fig, ax = plt.subplots(figsize=(10, 6))\n",
    "\n",
    "sns.histplot(ds_true[\"left_wrist_y\"], kde=True, color=\"red\", ax=ax)\n",
    "sns.histplot(ds_false[\"left_wrist_y\"], kde=True, color=\"blue\", ax=ax)\n",
    "sns.histplot(ds_two[\"left_wrist_y\"], kde=True, color=\"yellow\", ax=ax)\n",
    "\n",
    "fig.legend(labels=[\"Low back\", \"Correct\", \"High back\"])"
   ],
   "id": "74efc2c18a1c6b3",
   "outputs": [],
   "execution_count": null
  },
  {
   "metadata": {},
   "cell_type": "markdown",
   "source": "### 1.4 Data Modeling",
   "id": "b0ee301d21491bea"
  },
  {
   "metadata": {},
   "cell_type": "code",
   "source": [
    "from sklearn.linear_model import LogisticRegression\n",
    "\n",
    "log_model = LogisticRegression()\n",
    "log_model.fit(ds.loc[:, ds.columns != 'label'], ds[\"label\"].values.ravel())"
   ],
   "id": "5337a4c24dc3f9c5",
   "outputs": [],
   "execution_count": null
  },
  {
   "metadata": {},
   "cell_type": "markdown",
   "source": "### 1.5 Model Evaluation",
   "id": "11027df55569aec9"
  },
  {
   "metadata": {},
   "cell_type": "code",
   "source": [
    "# predict the target variable\n",
    "y_pred = log_model.predict(ds_test.loc[:, ds_test.columns != 'label'])"
   ],
   "id": "7e4147b89b22dd46",
   "outputs": [],
   "execution_count": null
  },
  {
   "metadata": {},
   "cell_type": "code",
   "source": [
    "from sklearn.metrics import accuracy_score\n",
    "from sklearn.metrics import confusion_matrix\n",
    "\n",
    "# calculate the accuracy of the model\n",
    "\n",
    "accuracy = accuracy_score(ds_test['label'], y_pred)\n",
    "print(\"Accuracy:\", accuracy)\n",
    "\n",
    "# calculate the confusion matrix\n",
    "cm = confusion_matrix(ds_test['label'], y_pred)\n",
    "\n",
    "fig, ax = plt.subplots(figsize=(10, 6))\n",
    "sns.heatmap(cm, annot=True, ax=ax)\n",
    "_ = plt.xlabel(\"Predicted\")\n",
    "_ = plt.ylabel(\"Actual\")"
   ],
   "id": "7e982b74a2651333",
   "outputs": [],
   "execution_count": null
  },
  {
   "metadata": {},
   "cell_type": "code",
   "source": [
    "from sklearn.metrics import classification_report\n",
    "\n",
    "print(classification_report(ds_test['label'], y_pred))"
   ],
   "id": "ad45039142ec6782",
   "outputs": [],
   "execution_count": null
  },
  {
   "metadata": {},
   "cell_type": "markdown",
   "source": "### 1.6 Feature Scaling",
   "id": "d0967971770de3dd"
  },
  {
   "metadata": {},
   "cell_type": "code",
   "source": [
    "from sklearn.pipeline import Pipeline\n",
    "from sklearn.preprocessing import StandardScaler\n",
    "\n",
    "pipe = Pipeline([\n",
    "    (\"scaler\", StandardScaler()), \n",
    "    (\"logistic\", LogisticRegression())\n",
    "])\n",
    "\n",
    "pipe.fit(ds.loc[:, ds.columns != 'label'], ds['label'].values.ravel())\n",
    "\n",
    "y_pred_scale = pipe.predict(ds_test.loc[:, ds_test.columns != 'label'])\n",
    "\n",
    "accuracy = accuracy_score(ds_test['label'], y_pred_scale)\n",
    "cm = confusion_matrix(ds_test['label'], y_pred_scale)\n",
    "\n",
    "print(\"Accuracy:\", accuracy)\n",
    "\n",
    "fig, ax = plt.subplots(figsize=(10, 6))\n",
    "sns.heatmap(cm, annot=True, ax=ax)\n",
    "_ = plt.xlabel(\"Predicted\")\n",
    "_ = plt.ylabel(\"Actual\")"
   ],
   "id": "2b5167569677ef52",
   "outputs": [],
   "execution_count": null
  },
  {
   "metadata": {},
   "cell_type": "code",
   "source": [
    "print(\"Coefficients:\", log_model.coef_)\n",
    "print(\"Intercept:\", log_model.intercept_)"
   ],
   "id": "99349426b8fdd5ab",
   "outputs": [],
   "execution_count": null
  },
  {
   "metadata": {},
   "cell_type": "markdown",
   "source": "### 1.7 Feature Importance",
   "id": "fe9aeec9e4890aa5"
  },
  {
   "metadata": {},
   "cell_type": "code",
   "source": [
    "import numpy as np\n",
    "\n",
    "fig, ax = plt.subplots(figsize=(10, 8))\n",
    "\n",
    "feature_importances = pd.DataFrame(\n",
    "    {\"column\": ds.loc[:, ds.columns != 'label'].columns, \"coef\": np.abs(pipe.named_steps[\"logistic\"].coef_[0])}\n",
    ").sort_values(by=\"coef\", ascending=True).tail()\n",
    "\n",
    "ax.barh(feature_importances[\"column\"], feature_importances[\"coef\"])"
   ],
   "id": "c97b5e075edf42ad",
   "outputs": [],
   "execution_count": null
  },
  {
   "metadata": {},
   "cell_type": "markdown",
   "source": "### 1.8 Hyperparameter Tuning",
   "id": "bf9bc2f36a5d5f6a"
  },
  {
   "metadata": {},
   "cell_type": "code",
   "source": [
    "from sklearn.model_selection import GridSearchCV\n",
    "\n",
    "param_grid = {\n",
    "    \"logistic__C\": [0.1, 1, 10, 100, 1000],\n",
    "    \"logistic__penalty\": [\"l1\", \"l2\"]\n",
    "}\n",
    "\n",
    "grid = GridSearchCV(pipe, param_grid, cv=5)\n",
    "grid.fit(ds.loc[:, ds.columns != 'label'], ds['label'].values.ravel())\n",
    "\n",
    "print(\"Best cross-validation score: {:.2f}\".format(grid.best_score_))\n",
    "print(\"Best parameters: \", grid.best_params_)\n",
    "\n"
   ],
   "id": "bbb8075b389346a7",
   "outputs": [],
   "execution_count": null
  },
  {
   "metadata": {},
   "cell_type": "markdown",
   "source": "### 2.0 Decision Tree Classifier",
   "id": "c1f8ea8a90674bf7"
  },
  {
   "metadata": {},
   "cell_type": "code",
   "source": [
    "from sklearn.tree import DecisionTreeClassifier\n",
    "\n",
    "tree = DecisionTreeClassifier()\n",
    "tree.fit(ds.loc[:, ds.columns != 'label'], ds[\"label\"].values.ravel())\n",
    "\n",
    "y_pred_tree = tree.predict(ds_test.loc[:, ds_test.columns != 'label'])\n",
    "\n",
    "accuracy = accuracy_score(ds_test['label'], y_pred_tree)\n",
    "cm = confusion_matrix(ds_test['label'], y_pred_tree)\n",
    "\n",
    "print(\"Accuracy:\", accuracy)\n",
    "\n",
    "# plot confusion matrix \n",
    "\n",
    "fig, ax = plt.subplots(figsize=(10, 6))\n",
    "sns.heatmap(cm, annot=True, ax=ax)\n",
    "_ = plt.xlabel(\"Predicted\")\n",
    "_ = plt.ylabel(\"Actual\")\n",
    "\n",
    "plt.show()\n",
    "\n"
   ],
   "id": "8e7e3267c7cb229a",
   "outputs": [],
   "execution_count": null
  },
  {
   "metadata": {},
   "cell_type": "code",
   "source": [
    "# plot the feature importance\n",
    "fig, ax = plt.subplots(figsize=(10, 8))\n",
    "\n",
    "feature_importances = pd.DataFrame(\n",
    "    {\"column\": ds.loc[:, ds.columns != 'label'].columns, \"coef\": tree.feature_importances_}\n",
    ").sort_values(by=\"coef\", ascending=True).tail()\n",
    "\n",
    "ax.barh(feature_importances[\"column\"], feature_importances[\"coef\"])\n",
    "\n",
    "plt.show()"
   ],
   "id": "ccffee9574a1e396",
   "outputs": [],
   "execution_count": null
  },
  {
   "metadata": {},
   "cell_type": "code",
   "source": [
    "# plot the decision tree\n",
    "from sklearn.tree import plot_tree\n",
    "\n",
    "fig, ax = plt.subplots(figsize=(20, 10))\n",
    "\n",
    "_ = plot_tree(tree, filled=True, ax=ax)\n",
    "\n",
    "plt.show()"
   ],
   "id": "29c7a8e154d55b33",
   "outputs": [],
   "execution_count": null
  },
  {
   "metadata": {},
   "cell_type": "markdown",
   "source": "### 2.1 Random Forest Classifier",
   "id": "d4235b543d7febcb"
  },
  {
   "metadata": {},
   "cell_type": "code",
   "outputs": [],
   "execution_count": null,
   "source": [
    "from sklearn.ensemble import RandomForestClassifier\n",
    "\n",
    "forest = RandomForestClassifier()\n",
    "forest.fit(ds.loc[:, ds.columns != 'label'], ds[\"label\"].values.ravel())\n",
    "\n",
    "y_pred_forest = forest.predict(ds_test.loc[:, ds_test.columns != 'label'])\n",
    "\n",
    "accuracy = accuracy_score(ds_test['label'], y_pred_forest)\n",
    "cm = confusion_matrix(ds_test['label'], y_pred_forest)\n",
    "\n",
    "print(\"Accuracy:\", accuracy)\n",
    "\n",
    "# plot confusion matrix\n",
    "\n",
    "fig, ax = plt.subplots(figsize=(10, 6))\n",
    "sns.heatmap(cm, annot=True, ax=ax)\n",
    "_ = plt.xlabel(\"Predicted\")\n",
    "_ = plt.ylabel(\"Actual\")\n",
    "\n",
    "plt.show()"
   ],
   "id": "fc3c6e7313432f31"
  },
  {
   "metadata": {},
   "cell_type": "markdown",
   "source": "### 2.2 Gradient Boosting Classifier",
   "id": "d952af0f48bd845f"
  },
  {
   "metadata": {},
   "cell_type": "code",
   "outputs": [],
   "execution_count": null,
   "source": [
    "from sklearn.ensemble import GradientBoostingClassifier\n",
    "\n",
    "gb = GradientBoostingClassifier()\n",
    "gb.fit(ds.loc[:, ds.columns != 'label'], ds[\"label\"].values.ravel())\n",
    "\n",
    "y_pred_gb = gb.predict(ds_test.loc[:, ds_test.columns != 'label'])\n",
    "\n",
    "accuracy = accuracy_score(ds_test['label'], y_pred_gb)\n",
    "\n",
    "cm = confusion_matrix(ds_test['label'], y_pred_gb)\n",
    "\n",
    "print(\"Accuracy:\", accuracy)\n",
    "\n",
    "# plot confusion matrix\n",
    "\n",
    "fig, ax = plt.subplots(figsize=(10, 6))\n",
    "sns.heatmap(cm, annot=True, ax=ax)\n",
    "_ = plt.xlabel(\"Predicted\")\n",
    "_ = plt.ylabel(\"Actual\")\n",
    "\n",
    "plt.show()"
   ],
   "id": "e274d642ca856aa9"
  },
  {
   "metadata": {},
   "cell_type": "code",
   "outputs": [],
   "execution_count": null,
   "source": [
    "# plot the feature importance\n",
    "fig, ax = plt.subplots(figsize=(10, 8))\n",
    "\n",
    "feature_importances = pd.DataFrame(\n",
    "    {\"column\": ds.loc[:, ds.columns != 'label'].columns, \"coef\": gb.feature_importances_}\n",
    ").sort_values(by=\"coef\", ascending=True).tail()\n",
    "\n",
    "ax.barh(feature_importances[\"column\"], feature_importances[\"coef\"])\n",
    "\n",
    "plt.show()"
   ],
   "id": "b24f44b7bd1ee1b8"
  },
  {
   "metadata": {},
   "cell_type": "code",
   "outputs": [],
   "execution_count": null,
   "source": [
    "# plot the decision tree\n",
    "fig, ax = plt.subplots(figsize=(20, 10))\n",
    "\n",
    "_ = plot_tree(gb.estimators_[0][0], filled=True, ax=ax)\n",
    "\n",
    "plt.show()"
   ],
   "id": "e1fc2654da96708a"
  },
  {
   "metadata": {},
   "cell_type": "markdown",
   "source": "### 2.3 Support Vector Machine",
   "id": "70b44ee381d7ef0d"
  },
  {
   "metadata": {},
   "cell_type": "code",
   "outputs": [],
   "execution_count": null,
   "source": [
    "from sklearn.svm import SVC\n",
    "\n",
    "svc = SVC()\n",
    "svc.fit(ds.loc[:, ds.columns != 'label'], ds[\"label\"].values.ravel())\n",
    "\n",
    "y_pred_svc = svc.predict(ds_test.loc[:, ds_test.columns != 'label'])\n",
    "\n",
    "accuracy = accuracy_score(ds_test['label'], y_pred_svc)\n",
    "\n",
    "cm = confusion_matrix(ds_test['label'], y_pred_svc)\n",
    "\n",
    "print(\"Accuracy:\", accuracy)\n",
    "\n",
    "# plot confusion matrix\n",
    "\n",
    "fig, ax = plt.subplots(figsize=(10, 6))\n",
    "sns.heatmap(cm, annot=True, ax=ax)\n",
    "_ = plt.xlabel(\"Predicted\")\n",
    "_ = plt.ylabel(\"Actual\")\n",
    "\n",
    "plt.show()"
   ],
   "id": "a839d863247c4ef"
  },
  {
   "metadata": {},
   "cell_type": "markdown",
   "source": "### 2.4 K-Nearest Neighbors",
   "id": "142f4c56cf5e430f"
  },
  {
   "metadata": {},
   "cell_type": "code",
   "outputs": [],
   "execution_count": null,
   "source": [
    "from sklearn.neighbors import KNeighborsClassifier\n",
    "\n",
    "knn = KNeighborsClassifier()\n",
    "knn.fit(ds.loc[:, ds.columns != 'label'], ds[\"label\"].values.ravel())\n",
    "\n",
    "y_pred_knn = knn.predict(ds_test.loc[:, ds_test.columns != 'label'])\n",
    "\n",
    "accuracy = accuracy_score(ds_test['label'], y_pred_knn)\n",
    "\n",
    "cm = confusion_matrix(ds_test['label'], y_pred_knn)\n",
    "\n",
    "print(\"Accuracy:\", accuracy)\n",
    "\n",
    "# plot confusion matrix\n",
    "\n",
    "fig, ax = plt.subplots(figsize=(10, 6))\n",
    "sns.heatmap(cm, annot=True, ax=ax)\n",
    "_ = plt.xlabel(\"Predicted\")\n",
    "_ = plt.ylabel(\"Actual\")\n",
    "\n",
    "plt.show()"
   ],
   "id": "e7ef02c4d684990"
  },
  {
   "metadata": {},
   "cell_type": "markdown",
   "source": "### 2.5 Naive Bayes",
   "id": "bb563fe65e7afa88"
  },
  {
   "metadata": {},
   "cell_type": "code",
   "outputs": [],
   "execution_count": null,
   "source": [
    "from sklearn.naive_bayes import GaussianNB\n",
    "\n",
    "nb = GaussianNB()\n",
    "nb.fit(ds.loc[:, ds.columns != 'label'], ds[\"label\"].values.ravel())\n",
    "\n",
    "y_pred_nb = nb.predict(ds_test.loc[:, ds_test.columns != 'label'])\n",
    "\n",
    "accuracy = accuracy_score(ds_test['label'], y_pred_nb)\n",
    "\n",
    "cm = confusion_matrix(ds_test['label'], y_pred_nb)\n",
    "\n",
    "print(\"Accuracy:\", accuracy)\n",
    "\n",
    "# plot confusion matrix\n",
    "\n",
    "fig, ax = plt.subplots(figsize=(10, 6))\n",
    "sns.heatmap(cm, annot=True, ax=ax)\n",
    "_ = plt.xlabel(\"Predicted\")\n",
    "_ = plt.ylabel(\"Actual\")\n",
    "\n",
    "plt.show()"
   ],
   "id": "53092dc5ad5dc9d2"
  },
  {
   "metadata": {},
   "cell_type": "markdown",
   "source": "### 2.6 Neural Network",
   "id": "6f95a056dade226c"
  },
  {
   "metadata": {},
   "cell_type": "code",
   "outputs": [],
   "execution_count": null,
   "source": [
    "from sklearn.neural_network import MLPClassifier\n",
    "\n",
    "nn = MLPClassifier()\n",
    "nn.fit(ds.loc[:, ds.columns != 'label'], ds[\"label\"].values.ravel())\n",
    "\n",
    "y_pred_nn = nn.predict(ds_test.loc[:, ds_test.columns != 'label'])\n",
    "\n",
    "accuracy = accuracy_score(ds_test['label'], y_pred_nn)\n",
    "\n",
    "cm = confusion_matrix(ds_test['label'], y_pred_nn)\n",
    "\n",
    "print(\"Accuracy:\", accuracy)\n",
    "\n",
    "# plot confusion matrix\n",
    "\n",
    "fig, ax = plt.subplots(figsize=(10, 6))\n",
    "sns.heatmap(cm, annot=True, ax=ax)\n",
    "_ = plt.xlabel(\"Predicted\")\n",
    "_ = plt.ylabel(\"Actual\")\n",
    "\n",
    "plt.show()"
   ],
   "id": "159191780e649178"
  }
 ],
 "metadata": {
  "kernelspec": {
   "display_name": "Python 3",
   "language": "python",
   "name": "python3"
  },
  "language_info": {
   "codemirror_mode": {
    "name": "ipython",
    "version": 2
   },
   "file_extension": ".py",
   "mimetype": "text/x-python",
   "name": "python",
   "nbconvert_exporter": "python",
   "pygments_lexer": "ipython2",
   "version": "2.7.6"
  }
 },
 "nbformat": 4,
 "nbformat_minor": 5
}
